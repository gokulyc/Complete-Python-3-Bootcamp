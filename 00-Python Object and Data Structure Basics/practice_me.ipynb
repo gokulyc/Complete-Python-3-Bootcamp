{
 "nbformat": 4,
 "nbformat_minor": 2,
 "metadata": {
  "language_info": {
   "name": "python",
   "codemirror_mode": {
    "name": "ipython",
    "version": 3
   }
  },
  "orig_nbformat": 2,
  "file_extension": ".py",
  "mimetype": "text/x-python",
  "name": "python",
  "npconvert_exporter": "python",
  "pygments_lexer": "ipython3",
  "version": 3
 },
 "cells": [
  {
   "cell_type": "code",
   "execution_count": 14,
   "metadata": {},
   "outputs": [
    {
     "name": "stdout",
     "output_type": "stream",
     "text": "ello\nello Wor\ndlroW olleH\ndrWolH\nHello world\nhello world\nHello World\nHELLO WORLD\n<built-in method upper of str object at 0x0000023EF31385B0>\n"
    }
   ],
   "source": [
    "str=\"Hello World\"\n",
    "print(str[1:5])\n",
    "print(str[1:9])\n",
    "print(str[::-1])\n",
    "print(str[::-2])\n",
    "print(str.capitalize())\n",
    "\n",
    "print(str.casefold())\n",
    "\n",
    "print(str.center(4))\n",
    "print(str.upper())\n",
    "print(str.upper)"
   ]
  },
  {
   "cell_type": "code",
   "execution_count": 15,
   "metadata": {},
   "outputs": [
    {
     "name": "stdout",
     "output_type": "stream",
     "text": "['Hello', 'World']\n"
    }
   ],
   "source": [
    "print(str.split(\" \"))"
   ]
  },
  {
   "cell_type": "code",
   "execution_count": 20,
   "metadata": {},
   "outputs": [
    {
     "name": "stdout",
     "output_type": "stream",
     "text": "Hi i am Gokul\n4+6=10\nwrong result 4+10=6\nfvs+bjbnd=jdhgv\n"
    }
   ],
   "source": [
    "print(\"Hi i am {}\".format(\"Gokul\"))\n",
    "\n",
    "print(\"{0}+{1}={2}\".format(4,6,10))\n",
    "\n",
    "print(\"wrong result {0}+{2}={1}\".format(4,6,10))\n",
    "\n",
    "print(\"{name}+{n1}={n3}\".format(name='fvs',n1='bjbnd',n3='jdhgv'))\n",
    "\n"
   ]
  },
  {
   "cell_type": "code",
   "execution_count": 32,
   "metadata": {},
   "outputs": [
    {
     "name": "stdout",
     "output_type": "stream",
     "text": "result is 0.129\nresult is      0.129\nresult is      0.129\n"
    }
   ],
   "source": [
    "ans=100/777\n",
    "ans\n",
    "print(\"result is {r:1.3f}\".format(r=ans))\n",
    "print(\"result is {r:10.3f}\".format(r=ans))\n",
    "\n",
    "# f strings >python 3.6\n",
    "print(f\"result is {ans:10.3f}\")\n"
   ]
  },
  {
   "cell_type": "code",
   "execution_count": 36,
   "metadata": {},
   "outputs": [
    {
     "name": "stdout",
     "output_type": "stream",
     "text": "[1, 2, 3, 4, 5, 6]\n"
    }
   ],
   "source": [
    "mylist=[1,2,3,4,5]\n",
    "len(mylist)\n",
    "mylist.append(6)\n",
    "print(mylist)"
   ]
  },
  {
   "cell_type": "code",
   "execution_count": null,
   "metadata": {},
   "outputs": [],
   "source": []
  }
 ]
}