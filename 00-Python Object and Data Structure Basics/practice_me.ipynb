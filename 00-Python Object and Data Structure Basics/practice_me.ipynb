{
 "nbformat": 4,
 "nbformat_minor": 2,
 "metadata": {
  "language_info": {
   "name": "python",
   "codemirror_mode": {
    "name": "ipython",
    "version": 3
   },
   "version": "3.7.3"
  },
  "orig_nbformat": 2,
  "file_extension": ".py",
  "mimetype": "text/x-python",
  "name": "python",
  "npconvert_exporter": "python",
  "pygments_lexer": "ipython3",
  "version": 3
 },
 "cells": [
  {
   "cell_type": "code",
   "execution_count": 29,
   "metadata": {},
   "outputs": [
    {
     "name": "stdout",
     "output_type": "stream",
     "text": "ello\nello Wor\ndlroW olleH\ndrWolH\nHello world\nhello world\nHello World\nHELLO WORLD\n<built-in method upper of str object at 0x000002790EBC9AF0>\n"
    }
   ],
   "source": [
    "str=\"Hello World\"\n",
    "print(str[1:5])\n",
    "print(str[1:9])\n",
    "print(str[::-1])\n",
    "print(str[::-2])\n",
    "print(str.capitalize())\n",
    "\n",
    "print(str.casefold())\n",
    "\n",
    "print(str.center(4))\n",
    "print(str.upper())\n",
    "print(str.upper)"
   ]
  },
  {
   "cell_type": "code",
   "execution_count": 30,
   "metadata": {},
   "outputs": [
    {
     "name": "stdout",
     "output_type": "stream",
     "text": "['Hello', 'World']\n"
    }
   ],
   "source": [
    "print(str.split(\" \"))"
   ]
  },
  {
   "cell_type": "code",
   "execution_count": 31,
   "metadata": {},
   "outputs": [
    {
     "name": "stdout",
     "output_type": "stream",
     "text": "Hi i am Gokul\n4+6=10\nwrong result 4+10=6\nfvs+bjbnd=jdhgv\n"
    }
   ],
   "source": [
    "print(\"Hi i am {}\".format(\"Gokul\"))\n",
    "\n",
    "print(\"{0}+{1}={2}\".format(4,6,10))\n",
    "\n",
    "print(\"wrong result {0}+{2}={1}\".format(4,6,10))\n",
    "\n",
    "print(\"{name}+{n1}={n3}\".format(name='fvs',n1='bjbnd',n3='jdhgv'))\n",
    "\n"
   ]
  },
  {
   "cell_type": "code",
   "execution_count": 32,
   "metadata": {},
   "outputs": [
    {
     "name": "stdout",
     "output_type": "stream",
     "text": "result is 0.129\nresult is      0.129\nresult is      0.129\n"
    }
   ],
   "source": [
    "ans=100/777\n",
    "ans\n",
    "print(\"result is {r:1.3f}\".format(r=ans))\n",
    "print(\"result is {r:10.3f}\".format(r=ans))\n",
    "\n",
    "# f strings >python 3.6\n",
    "print(f\"result is {ans:10.3f}\")\n"
   ]
  },
  {
   "cell_type": "code",
   "execution_count": 33,
   "metadata": {},
   "outputs": [
    {
     "name": "stdout",
     "output_type": "stream",
     "text": "[1, 2, 3, 9, 5, 6]\n[1, 2, 3, 5, 6, 9]\n"
    }
   ],
   "source": [
    "mylist=[1,2,3,9,5]\n",
    "len(mylist)\n",
    "mylist.append(6)\n",
    "print(mylist)\n",
    "print(sorted(mylist))"
   ]
  },
  {
   "cell_type": "code",
   "execution_count": 34,
   "metadata": {},
   "outputs": [
    {
     "name": "stdout",
     "output_type": "stream",
     "text": "None --- [1, 2, 3, 5, 6, 9]\n"
    }
   ],
   "source": [
    "# mylist.pop()\n",
    "print(mylist.sort(),'---',mylist)"
   ]
  },
  {
   "cell_type": "code",
   "execution_count": 35,
   "metadata": {},
   "outputs": [
    {
     "data": {
      "text/plain": "{'name': 'Gokul', 'id': 'GO353663'}"
     },
     "execution_count": 35,
     "metadata": {},
     "output_type": "execute_result"
    }
   ],
   "source": [
    "my_dict={'name':'Gokul','id':'GO353663'}\n",
    "my_dict"
   ]
  },
  {
   "cell_type": "code",
   "execution_count": 36,
   "metadata": {},
   "outputs": [
    {
     "data": {
      "text/plain": "'Gokul'"
     },
     "execution_count": 36,
     "metadata": {},
     "output_type": "execute_result"
    }
   ],
   "source": [
    "len(my_dict['name'])\n",
    "my_dict['name']"
   ]
  },
  {
   "cell_type": "code",
   "execution_count": 37,
   "metadata": {},
   "outputs": [
    {
     "name": "stdout",
     "output_type": "stream",
     "text": "apple:15.0f : 120\noranges:15.0f : 80\nmilk:15.0f : 30\n"
    }
   ],
   "source": [
    "prices={'apple':120,'oranges':80,'milk':30}\n",
    "prices['apple']\n",
    "for ele in prices:\n",
    "    print('{}:15.0f'.format(ele),':',prices[ele])"
   ]
  },
  {
   "cell_type": "code",
   "execution_count": 38,
   "metadata": {},
   "outputs": [
    {
     "name": "stdout",
     "output_type": "stream",
     "text": "k1 : 100\nk2 : [1, 3, 4, 5]\nk3 : {'i1': 123, 'i2': 'gokul'}\n"
    },
    {
     "data": {
      "text/plain": "'GOKUL'"
     },
     "execution_count": 38,
     "metadata": {},
     "output_type": "execute_result"
    }
   ],
   "source": [
    "d={'k1':100,'k2':[1,3,4,5],'k3':{'i1':123,'i2':'gokul'}}\n",
    "for ele in d:\n",
    "    print(ele,':',d[ele])\n",
    "d['k3']['i2'].upper()"
   ]
  },
  {
   "cell_type": "code",
   "execution_count": 39,
   "metadata": {},
   "outputs": [
    {
     "name": "stdout",
     "output_type": "stream",
     "text": "{'k1': 100, 'k2': [1, 3, 4, 5], 'k3': {'i1': 123, 'i2': 'gokul'}, 'k4': 'new value'}\ndict_keys(['k1', 'k2', 'k3', 'k4'])\ndict_values([100, [1, 3, 4, 5], {'i1': 123, 'i2': 'gokul'}, 'new value'])\ndict_items([('k1', 100), ('k2', [1, 3, 4, 5]), ('k3', {'i1': 123, 'i2': 'gokul'}), ('k4', 'new value')])\n"
    }
   ],
   "source": [
    "d['k4']='new value'\n",
    "print(d)\n",
    "print(d.keys())\n",
    "print(d.values())\n",
    "print(d.items())"
   ]
  },
  {
   "cell_type": "code",
   "execution_count": 40,
   "metadata": {},
   "outputs": [
    {
     "name": "stdout",
     "output_type": "stream",
     "text": "('abc', 123, 'pot') <class 'tuple'> 3 123\n"
    },
    {
     "ename": "TypeError",
     "evalue": "index() takes at least 1 argument (0 given)",
     "output_type": "error",
     "traceback": [
      "\u001b[1;31m---------------------------------------------------------------------------\u001b[0m",
      "\u001b[1;31mTypeError\u001b[0m                                 Traceback (most recent call last)",
      "\u001b[1;32m<ipython-input-40-b218c42f56db>\u001b[0m in \u001b[0;36m<module>\u001b[1;34m\u001b[0m\n\u001b[0;32m      1\u001b[0m \u001b[0mtup\u001b[0m\u001b[1;33m=\u001b[0m\u001b[1;33m(\u001b[0m\u001b[1;34m'abc'\u001b[0m\u001b[1;33m,\u001b[0m\u001b[1;36m123\u001b[0m\u001b[1;33m,\u001b[0m\u001b[1;34m'pot'\u001b[0m\u001b[1;33m)\u001b[0m\u001b[1;33m\u001b[0m\u001b[1;33m\u001b[0m\u001b[0m\n\u001b[0;32m      2\u001b[0m \u001b[0mprint\u001b[0m\u001b[1;33m(\u001b[0m\u001b[0mtup\u001b[0m\u001b[1;33m,\u001b[0m\u001b[0mtype\u001b[0m\u001b[1;33m(\u001b[0m\u001b[0mtup\u001b[0m\u001b[1;33m)\u001b[0m\u001b[1;33m,\u001b[0m\u001b[0mlen\u001b[0m\u001b[1;33m(\u001b[0m\u001b[0mtup\u001b[0m\u001b[1;33m)\u001b[0m\u001b[1;33m,\u001b[0m\u001b[0mtup\u001b[0m\u001b[1;33m[\u001b[0m\u001b[1;33m-\u001b[0m\u001b[1;36m2\u001b[0m\u001b[1;33m]\u001b[0m\u001b[1;33m)\u001b[0m\u001b[1;33m\u001b[0m\u001b[1;33m\u001b[0m\u001b[0m\n\u001b[1;32m----> 3\u001b[1;33m \u001b[1;32mfor\u001b[0m \u001b[0miele\u001b[0m \u001b[1;32min\u001b[0m \u001b[0mtup\u001b[0m\u001b[1;33m.\u001b[0m\u001b[0mindex\u001b[0m\u001b[1;33m(\u001b[0m\u001b[1;33m)\u001b[0m\u001b[1;33m:\u001b[0m\u001b[1;33m\u001b[0m\u001b[1;33m\u001b[0m\u001b[0m\n\u001b[0m\u001b[0;32m      4\u001b[0m     \u001b[0mprint\u001b[0m\u001b[1;33m(\u001b[0m\u001b[0miele\u001b[0m\u001b[1;33m)\u001b[0m\u001b[1;33m\u001b[0m\u001b[1;33m\u001b[0m\u001b[0m\n",
      "\u001b[1;31mTypeError\u001b[0m: index() takes at least 1 argument (0 given)"
     ]
    }
   ],
   "source": [
    "tup=('abc',123,'pot')\n",
    "print(tup,type(tup),len(tup),tup[-2])\n",
    "for iele in tup.index():\n",
    "    print(iele)\n"
   ]
  },
  {
   "cell_type": "code",
   "execution_count": 0,
   "metadata": {},
   "outputs": [],
   "source": [
    "tup[0]=1"
   ]
  },
  {
   "cell_type": "code",
   "execution_count": 0,
   "metadata": {},
   "outputs": [],
   "source": [
    "#sets\n",
    "\n",
    "myset=set()\n",
    "myset.add(1)\n",
    "myset.add(2)\n",
    "\n",
    "print(myset)"
   ]
  },
  {
   "cell_type": "code",
   "execution_count": 0,
   "metadata": {},
   "outputs": [],
   "source": [
    "myset.add(2)\n",
    "print(myset)\n",
    "print(set([1,1,1,2,2,2,3,3,3]))\n",
    "print(set('Mississippi'))"
   ]
  },
  {
   "cell_type": "code",
   "execution_count": 0,
   "metadata": {},
   "outputs": [],
   "source": [
    "#Boolean\n",
    "\n",
    "print(True+False)\n",
    "\n",
    "print(1>2)"
   ]
  },
  {
   "cell_type": "code",
   "execution_count": 0,
   "metadata": {},
   "outputs": [],
   "source": [
    "%%writefile myfile.txt\n",
    "\n",
    "hi i am gokul.\n",
    "this is second line\n",
    "third line\n"
   ]
  },
  {
   "cell_type": "code",
   "execution_count": 0,
   "metadata": {},
   "outputs": [],
   "source": [
    "import os\n",
    "myfile = open('myfile.txt')\n",
    "os.getcwd()\n",
    "\n",
    "# import pathlib\n",
    "# current_dir = pathlib.Path(__file__).parent\n",
    "# current_file = pathlib.Path(__file__)"
   ]
  },
  {
   "cell_type": "code",
   "execution_count": 0,
   "metadata": {},
   "outputs": [],
   "source": [
    "myfile.read()"
   ]
  },
  {
   "cell_type": "code",
   "execution_count": 0,
   "metadata": {},
   "outputs": [],
   "source": [
    "myfile.read()"
   ]
  },
  {
   "cell_type": "code",
   "execution_count": 0,
   "metadata": {},
   "outputs": [],
   "source": [
    "myfile.seek(0)"
   ]
  },
  {
   "cell_type": "code",
   "execution_count": 0,
   "metadata": {},
   "outputs": [],
   "source": [
    "contents=myfile.read()\n",
    "repr(contents)\n",
    "print(contents)\n",
    "myfile.close()"
   ]
  },
  {
   "cell_type": "code",
   "execution_count": 0,
   "metadata": {},
   "outputs": [],
   "source": [
    "with open('myfile.txt',mode='r') as myfile: # modes r w a r+ w+\n",
    "    contents=myfile.read()\n",
    "    repr(contents)\n",
    "    print(contents)\n",
    "    # myfile.close() not needed\n"
   ]
  },
  {
   "cell_type": "code",
   "execution_count": 0,
   "metadata": {},
   "outputs": [],
   "source": [
    "%%writefile mynewfile.txt\n",
    "\n",
    "hi i am gokul.\n",
    "this is second line\n",
    "third line"
   ]
  },
  {
   "cell_type": "code",
   "execution_count": 0,
   "metadata": {},
   "outputs": [],
   "source": [
    "with open('mynewfile.txt',mode='a') as mynewfile: # modes r w a r+ w+\n",
    "    mynewfile.write('\\nnew line')\n",
    "    "
   ]
  },
  {
   "cell_type": "code",
   "execution_count": 0,
   "metadata": {},
   "outputs": [],
   "source": [
    "with open('mynewfile.txt',mode='r') as mynewfile: # modes r w a r+ w+\n",
    "    # mynewfile.write('new line')\n",
    "    contents=mynewfile.read()\n",
    "    repr(contents)\n",
    "    print(contents)"
   ]
  },
  {
   "cell_type": "code",
   "execution_count": 0,
   "metadata": {},
   "outputs": [],
   "source": [
    "# if else\n",
    "hungry= True\n",
    "if hungry:\n",
    "    print('Feed Me!')\n",
    "else:\n",
    "    print('i am not hungry')\n"
   ]
  },
  {
   "cell_type": "code",
   "execution_count": 0,
   "metadata": {},
   "outputs": [],
   "source": [
    "loc = 'Bank'\n",
    "\n",
    "if loc == 'Auto Shop':\n",
    "    print(\"Cars are cool!\")\n",
    "elif loc == 'Bank':\n",
    "    print(\"Money is cool\")\n",
    "else:\n",
    "    print('No idea')"
   ]
  },
  {
   "cell_type": "code",
   "execution_count": 0,
   "metadata": {},
   "outputs": [],
   "source": [
    "li=[1,3,2,4,5]\n",
    "for ele in li:\n",
    "    print(ele)"
   ]
  },
  {
   "cell_type": "code",
   "execution_count": 0,
   "metadata": {},
   "outputs": [],
   "source": [
    "for num in li:\n",
    "    # check even\n",
    "    if num%2 == 0:\n",
    "        print(num)\n",
    "    else:\n",
    "        print(f'Odd Num : {num}')"
   ]
  },
  {
   "cell_type": "code",
   "execution_count": 0,
   "metadata": {},
   "outputs": [],
   "source": [
    "\n",
    "li_sum=0\n",
    "\n",
    "for num in li:\n",
    "    li_sum=li_sum+num\n",
    "    print(li_sum)\n",
    "print('total : ',li_sum)"
   ]
  },
  {
   "cell_type": "code",
   "execution_count": 0,
   "metadata": {},
   "outputs": [],
   "source": [
    "str='hello world'\n",
    "\n",
    "for letter in str:\n",
    "    print(letter)"
   ]
  },
  {
   "cell_type": "code",
   "execution_count": 0,
   "metadata": {},
   "outputs": [],
   "source": [
    "tup=(1,2,3)\n",
    "\n",
    "for ele in tup:\n",
    "    print(ele)   "
   ]
  },
  {
   "cell_type": "code",
   "execution_count": 0,
   "metadata": {},
   "outputs": [],
   "source": [
    "myl = [(1,2),(3,4),(5,6),(7,8)]\n",
    "\n",
    "print(len(myl))"
   ]
  },
  {
   "cell_type": "code",
   "execution_count": 0,
   "metadata": {},
   "outputs": [],
   "source": [
    "for ele in myl:\n",
    "    print(ele)\n",
    "# tuple unpacking\n",
    "for (a,b) in myl:\n",
    "    print(a,b)"
   ]
  },
  {
   "cell_type": "code",
   "execution_count": 0,
   "metadata": {},
   "outputs": [],
   "source": [
    "# dict\n",
    "d={'k1':1,'k2':2,'k3':3}\n",
    "# type(d)\n",
    "\n",
    "for ele in d:\n",
    "    print(ele)\n",
    "for ele in d.items():\n",
    "    print(ele)\n",
    "for key,ele in d.items():\n",
    "    print(key,ele)"
   ]
  },
  {
   "cell_type": "code",
   "execution_count": 0,
   "metadata": {},
   "outputs": [],
   "source": [
    "# pass break continue\n",
    "\n",
    "str = 'abcdefg'\n",
    "\n",
    "for i in str:\n",
    "    pass\n",
    "for i in str:\n",
    "    if i == 'a':\n",
    "        continue\n",
    "    if i == 'f':\n",
    "        continue\n",
    "    print(i)"
   ]
  },
  {
   "cell_type": "code",
   "execution_count": 0,
   "metadata": {},
   "outputs": [],
   "source": [
    "# Range\n",
    "print(range(3),range(1,3),range(1,9,3))\n",
    "\n",
    "for i in range(3):\n",
    "    print(i)\n",
    "print()\n",
    "for i in range(1,3):\n",
    "    print(i)\n",
    "print()\n",
    "for i in range(1,9,3):\n",
    "    print(i)"
   ]
  },
  {
   "cell_type": "code",
   "execution_count": 0,
   "metadata": {},
   "outputs": [],
   "source": [
    "# Enumerate\n",
    "\n",
    "word='abcde'\n",
    "for item in enumerate(word):\n",
    "    print(item)\n",
    "for item in enumerate(word):\n",
    "    print(f\"{item[1]} is at {item[0]}\")\n",
    "\n"
   ]
  },
  {
   "cell_type": "code",
   "execution_count": 0,
   "metadata": {},
   "outputs": [],
   "source": [
    "# Zip\n",
    "\n",
    "li1=[1,2,3,4]\n",
    "li2=['a','b','c']\n",
    "\n",
    "for i,j in zip(li1,li2):\n",
    "    print(i,j)"
   ]
  },
  {
   "cell_type": "code",
   "execution_count": 0,
   "metadata": {},
   "outputs": [],
   "source": [
    "# in\n",
    "\n",
    "print(2 in [2,4,5])"
   ]
  },
  {
   "cell_type": "code",
   "execution_count": 0,
   "metadata": {},
   "outputs": [],
   "source": [
    "# min max\n",
    "print(min(li1),max(li1))"
   ]
  },
  {
   "cell_type": "code",
   "execution_count": 0,
   "metadata": {},
   "outputs": [],
   "source": [
    "# shuffle, random\n",
    "from random import shuffle\n",
    "\n",
    "mylist=[1,2,3,4,5,6,7,8,9,0]\n",
    "print(shuffle(mylist),mylist)"
   ]
  },
  {
   "cell_type": "code",
   "execution_count": 0,
   "metadata": {},
   "outputs": [],
   "source": [
    "from random import randint\n",
    "num = randint(2,99)\n",
    "print(num)"
   ]
  },
  {
   "cell_type": "code",
   "execution_count": 0,
   "metadata": {},
   "outputs": [],
   "source": [
    "#  input\n",
    "\n",
    "num=int(input(\"enter a number:\"))"
   ]
  },
  {
   "cell_type": "code",
   "execution_count": 0,
   "metadata": {},
   "outputs": [],
   "source": [
    "# list comprehension\n",
    "str=\"Hello World\"\n",
    "\n",
    "mylist=[letter for letter in str]\n",
    "print(mylist)"
   ]
  },
  {
   "cell_type": "code",
   "execution_count": 0,
   "metadata": {},
   "outputs": [],
   "source": [
    "results = [x if x%2==0 else 'ODD' for x in range(0,11)]\n",
    "res1 = [x for x in range(0,11) if x%2==0 ]\n",
    "print(results,res1)"
   ]
  },
  {
   "cell_type": "code",
   "execution_count": 0,
   "metadata": {},
   "outputs": [],
   "source": [
    "celcius=[0,10,20,34.5]\n",
    "fahrenheit=[((9/5)*temp+32) for temp in celcius]\n",
    "print(fahrenheit)"
   ]
  },
  {
   "cell_type": "code",
   "execution_count": 0,
   "metadata": {},
   "outputs": [],
   "source": [
    "%%time\n",
    "mylist=[x*y for x in [2,4,6] for y in [1,10,100]]\n",
    "print(mylist)"
   ]
  },
  {
   "cell_type": "code",
   "execution_count": 0,
   "metadata": {},
   "outputs": [],
   "source": [
    "# %pwd\n",
    "# %env\n",
    "# %lsmagic\n",
    "# magic commands\n",
    "help(mylist.extend)\n"
   ]
  },
  {
   "cell_type": "code",
   "execution_count": 0,
   "metadata": {},
   "outputs": [],
   "source": [
    "def sayhello(name=\"default\"):\n",
    "    return \"Hello \"+name\n",
    "print(sayhello())\n",
    "print(sayhello('time'))"
   ]
  },
  {
   "cell_type": "code",
   "execution_count": 0,
   "metadata": {},
   "outputs": [],
   "source": [
    "# string search\n",
    "def str_check(str,sentence):\n",
    "    return str.lower() in sentence.lower()\n",
    "print(str_check('Gokul','hi i am gokul'))"
   ]
  },
  {
   "cell_type": "code",
   "execution_count": 0,
   "metadata": {},
   "outputs": [],
   "source": [
    "# pig latin string special\n",
    "def pig_latin(word):\n",
    "    first_letter = word[0]\n",
    "\n",
    "    # check if vowel\n",
    "    if first_letter in 'aeiou':\n",
    "        pig_word=word+'ay'\n",
    "    else:\n",
    "        pig_word=word[1:]+first_letter+'ay'\n",
    "    return pig_word\n",
    "print(pig_latin('apple'))\n",
    "print(pig_latin('fapple'))"
   ]
  },
  {
   "cell_type": "code",
   "execution_count": 0,
   "metadata": {},
   "outputs": [],
   "source": [
    "# *args and **kwargs in Python\n",
    "\n",
    "def myfunc(*args):\n",
    "    print(args)\n",
    "    return sum(args)*0.05\n",
    "\n",
    "print(myfunc(10.20,60,100,154))\n",
    "\n",
    "def myfunc1(**kwargs):\n",
    "    print(kwargs)\n",
    "    if 'fruit' in kwargs:\n",
    "        print('Fruit of my choice is {}'.format(kwargs['fruit']))\n",
    "    else:\n",
    "        print('I did not find any fruit here')\n",
    "myfunc1(fruit='Apple',veggie='lettuce')\n",
    "\n",
    "def myfunc2(*args,**kwargs):\n",
    "    return args,kwargs\n",
    "print(myfunc2(10,20,30,fruit='apple',veggie='potato'))\n",
    "print(myfunc2(a=True,10,20,30,fruit='apple',veggie='potato',40))"
   ]
  },
  {
   "cell_type": "code",
   "execution_count": 0,
   "metadata": {},
   "outputs": [],
   "source": [
    "def myfunc5(*args):\n",
    "    li=[]\n",
    "    for item in args:\n",
    "        if item%2==0:\n",
    "            li.append(item)\n",
    "    return li\n",
    "myfunc5(1,2,3,4,5,6,7,8)"
   ]
  },
  {
   "cell_type": "code",
   "execution_count": 0,
   "metadata": {},
   "outputs": [],
   "source": [
    "def myfunc(str):\n",
    "    i=0\n",
    "    str1=''\n",
    "    for item in str:\n",
    "        if(i%2==0):\n",
    "            str1=str1+item.upper()\n",
    "        else:\n",
    "            str1=str1+item.lower()\n",
    "        i+=1\n",
    "    return str1\n",
    "\n",
    "myfunc('HelloWorld')"
   ]
  },
  {
   "cell_type": "code",
   "execution_count": 0,
   "metadata": {},
   "outputs": [],
   "source": [
    "%%time\n",
    "def lesser_of_twoeven(a,b):\n",
    "    if a%2==0 and b%2==0:\n",
    "        if a<b:\n",
    "            result=a\n",
    "        else:\n",
    "            result=b\n",
    "    else:\n",
    "        if a>b:\n",
    "            result=a\n",
    "        else:\n",
    "            result=b\n",
    "    return result\n",
    "print(lesser_of_twoeven(2,5))\n",
    "print(lesser_of_twoeven(2,4))"
   ]
  },
  {
   "cell_type": "code",
   "execution_count": 0,
   "metadata": {},
   "outputs": [],
   "source": [
    "%%time\n",
    "def lesser_of_twoeven(a,b):\n",
    "    if a%2==0 and b%2==0:\n",
    "        result=min(a,b)\n",
    "    else:\n",
    "        result=max(a,b)\n",
    "    return result\n",
    "print(lesser_of_twoeven(2,5))\n",
    "print(lesser_of_twoeven(2,4))"
   ]
  },
  {
   "cell_type": "code",
   "execution_count": 0,
   "metadata": {},
   "outputs": [],
   "source": [
    "# list join\n",
    "li=['Hi,','I','am','Gokul']\n",
    "print(' '.join(li))"
   ]
  },
  {
   "cell_type": "code",
   "execution_count": 0,
   "metadata": {},
   "outputs": [],
   "source": [
    "# Spy Game used stack for \n",
    "def spy_game(nums):\n",
    "    code=[0,0,7,'x']\n",
    "\n",
    "    for num in nums:\n",
    "        if num == code[0]:\n",
    "            code.pop(0)\n",
    "    return len(code)==1\n",
    "\n",
    "print(spy_game([1,2,3,4,5,6,7]),spy_game([0,0,5,6,8,3,7]),spy_game([0,5,6,8,3,7]))"
   ]
  },
  {
   "cell_type": "code",
   "execution_count": 0,
   "metadata": {},
   "outputs": [],
   "source": [
    "def check_even(num):\n",
    "    return num%2==0\n",
    "mynums = [1,2,3,4,5,6]\n",
    "print(list(filter(check_even,mynums)))"
   ]
  },
  {
   "cell_type": "code",
   "execution_count": 0,
   "metadata": {},
   "outputs": [],
   "source": [
    "# def check_even(num):\n",
    "#     return num%2==0\n",
    "mynums = [1,2,3,4,5,6]\n",
    "check_even=lambda num: num%2==0\n",
    "print(list(filter(lambda num: num%2==0,mynums)))"
   ]
  },
  {
   "cell_type": "code",
   "execution_count": 0,
   "metadata": {},
   "outputs": [],
   "source": [
    "# map \n",
    "%time\n",
    "def square(num):\n",
    "    return num**2\n",
    "my_nums = [1,2,3,4,5]\n",
    "for item in map(square,my_nums):\n",
    "    print(item)\n",
    "print(list(map(square,my_nums)))"
   ]
  },
  {
   "cell_type": "code",
   "execution_count": 0,
   "metadata": {},
   "outputs": [],
   "source": [
    "# lambda expression\n",
    "\n",
    "%time\n",
    "square = lambda num: num**2\n",
    "my_nums = [1,2,3,4,5]\n",
    "for item in map(square,my_nums):\n",
    "    print(item)\n",
    "print(list(map(lambda num: num**2,my_nums)))"
   ]
  },
  {
   "cell_type": "code",
   "execution_count": 0,
   "metadata": {},
   "outputs": [],
   "source": [
    "# LEGB Rule Local,Enclosing function local,Global, Builtin\n",
    "\n",
    "print(lambda num : num**2)\n",
    "print(square)"
   ]
  },
  {
   "cell_type": "code",
   "execution_count": 0,
   "metadata": {},
   "outputs": [],
   "source": [
    "# Global\n",
    "name='Global'\n",
    "\n",
    "def greet():\n",
    "    # Enclosing funtion\n",
    "    name='Sammy'\n",
    "\n",
    "    def hello():\n",
    "        # Local\n",
    "        # global name\n",
    "        name=\"i am local\"\n",
    "        print('Hello '+name)\n",
    "    hello()\n",
    "greet()\n",
    "print(name)"
   ]
  },
  {
   "cell_type": "code",
   "execution_count": 0,
   "metadata": {},
   "outputs": [],
   "source": [
    "import string\n",
    "print(string.ascii_lowercase)\n",
    "def ispangram(str,alphabet=string.ascii_lowercase):\n",
    "    alphaset=set(alphabet)\n",
    "    return alphaset<=set(str.lower())\n",
    "ispangram('the quick brown fox jumps over the lazy dog')\n",
    "# print(set('i am gokul, i am worst nightmare you can ever face'))"
   ]
  },
  {
   "cell_type": "code",
   "execution_count": 0,
   "metadata": {},
   "outputs": [],
   "source": [
    "class Dog():\n",
    "    # Class object attribute\n",
    "    # Same for any instance of class\n",
    "    species='Mammal'\n",
    "    def __init__(self,breed,name,spots):\n",
    "        self.breed=breed\n",
    "        self.name=name\n",
    "        # bool type : spots\n",
    "        self.spots=spots\n",
    "    def bark(self,number):\n",
    "        print('WOOF!, my name is {} and number is {}'.format(self.name,number))\n",
    "        print(self)\n"
   ]
  },
  {
   "cell_type": "code",
   "execution_count": 0,
   "metadata": {},
   "outputs": [],
   "source": [
    "my_dog=Dog('Lab',name='Sammy',spots=False)\n",
    "my_dog1=Dog('Lab',name='Sammy',spots=False)\n",
    "type(my_dog)\n",
    "print(my_dog.breed,my_dog.name,my_dog.spots,my_dog.species)\n",
    "my_dog.bark(10)\n",
    "my_dog1.bark(11)"
   ]
  },
  {
   "cell_type": "code",
   "execution_count": 0,
   "metadata": {},
   "outputs": [],
   "source": [
    "class Circle():\n",
    "    pi = 3.14\n",
    "    def __init__(self,radius=1):\n",
    "        self.radius=radius\n",
    "        self.area=radius*radius*self.pi\n",
    "    def get_circumference(self):\n",
    "        return self.radius*self.pi*2\n"
   ]
  },
  {
   "cell_type": "code",
   "execution_count": 0,
   "metadata": {},
   "outputs": [],
   "source": [
    "my_c1=Circle(30)\n",
    "print(my_c1.get_circumference(),my_c1.area)\n"
   ]
  },
  {
   "cell_type": "code",
   "execution_count": 0,
   "metadata": {},
   "outputs": [],
   "source": [
    "class Animal():\n",
    "    def __init__(self):\n",
    "        print(\"Animal Created\")\n",
    "    def who_am_i(self):\n",
    "        print('I am an animal')\n",
    "    def eat(self):\n",
    "        print(\"I am eating\")\n"
   ]
  },
  {
   "cell_type": "code",
   "execution_count": 0,
   "metadata": {},
   "outputs": [],
   "source": [
    "my_a1=Animal()\n",
    "my_a1.who_am_i()\n",
    "my_a1.eat()"
   ]
  },
  {
   "cell_type": "code",
   "execution_count": 0,
   "metadata": {},
   "outputs": [],
   "source": [
    "class Dog(Animal):\n",
    "    def __init__(self):\n",
    "        Animal.__init__(self)\n",
    "        print('Dog Created')\n",
    "    def bark(self):\n",
    "        print('WOOF!')\n",
    "    def eat(self):\n",
    "        print(\"I am a dog and eating\")\n",
    "       \n"
   ]
  },
  {
   "cell_type": "code",
   "execution_count": 0,
   "metadata": {},
   "outputs": [],
   "source": [
    "mydog=Dog()"
   ]
  },
  {
   "cell_type": "code",
   "execution_count": 0,
   "metadata": {},
   "outputs": [],
   "source": [
    "mydog.eat()\n",
    "mydog.who_am_i()"
   ]
  },
  {
   "cell_type": "code",
   "execution_count": 0,
   "metadata": {},
   "outputs": [],
   "source": [
    "class Dog():\n",
    "    def __init__(self,name):\n",
    "        self.name=name\n",
    "    def speak(self):\n",
    "        return self.name+' says woof!'\n",
    "class Cat():\n",
    "    def __init__(self,name):\n",
    "        self.name=name\n",
    "    def speak(self):\n",
    "        return self.name+' says meow!'\n",
    "        "
   ]
  },
  {
   "cell_type": "code",
   "execution_count": 0,
   "metadata": {},
   "outputs": [],
   "source": [
    "niko=Dog(\"niko\")\n",
    "felix=Cat(\"felix\")"
   ]
  },
  {
   "cell_type": "code",
   "execution_count": 0,
   "metadata": {},
   "outputs": [],
   "source": [
    "print(niko.speak())\n",
    "print(felix.speak())"
   ]
  },
  {
   "cell_type": "code",
   "execution_count": 0,
   "metadata": {},
   "outputs": [],
   "source": [
    "def pet_speak(pet):\n",
    "    print(pet.speak())"
   ]
  },
  {
   "cell_type": "code",
   "execution_count": 0,
   "metadata": {},
   "outputs": [],
   "source": [
    "pet_speak(niko)\n",
    "pet_speak(felix)"
   ]
  },
  {
   "cell_type": "code",
   "execution_count": 0,
   "metadata": {},
   "outputs": [],
   "source": [
    "mylist=[1,2,3]\n",
    "print(len(mylist))"
   ]
  },
  {
   "cell_type": "code",
   "execution_count": 0,
   "metadata": {},
   "outputs": [],
   "source": [
    "class Sample():\n",
    "    pass\n",
    "mysample=Sample()\n",
    "len(mysample)"
   ]
  },
  {
   "cell_type": "code",
   "execution_count": 0,
   "metadata": {},
   "outputs": [],
   "source": [
    "class Book():\n",
    "    def __init__(self,title,author,pages):\n",
    "        self.title=title\n",
    "        self.author=author\n",
    "        self.pages=pages\n",
    "    \n",
    "    def __str__(self):\n",
    "       return f'{self.title} by {self.author}'\n",
    "    def __len__(self):\n",
    "        return self.pages\n",
    "    def __del__(self):\n",
    "        print('Object deleted')"
   ]
  },
  {
   "cell_type": "code",
   "execution_count": 0,
   "metadata": {},
   "outputs": [],
   "source": [
    "b=Book('Python Rocks','Jose',200)"
   ]
  },
  {
   "cell_type": "code",
   "execution_count": 0,
   "metadata": {},
   "outputs": [],
   "source": [
    "print(b)\n",
    "len(b)"
   ]
  },
  {
   "cell_type": "code",
   "execution_count": 0,
   "metadata": {},
   "outputs": [],
   "source": [
    "del(b)"
   ]
  },
  {
   "cell_type": "code",
   "execution_count": 0,
   "metadata": {},
   "outputs": [],
   "source": [
    "# 65 video \n",
    "\n",
    "class Line():\n",
    "    def __init__(self,coor1,coor2):\n",
    "        self.coor1=coor1\n",
    "        self.coor2=coor2\n",
    "    def distance(self):\n",
    "        x1,y1 = self.coor1\n",
    "        x2,y2 = self.coor2\n",
    "        return ((x2-x1)**2 + (y2-y1)**2)**0.5\n",
    "    def slope(self):\n",
    "        x1,y1 = self.coor1\n",
    "        x2,y2 = self.coor2\n",
    "        return (y2-y1)/(x2-x1)\n"
   ]
  },
  {
   "cell_type": "code",
   "execution_count": 0,
   "metadata": {},
   "outputs": [],
   "source": [
    "c1=(3,2)\n",
    "c2=(8,10)\n",
    "myline= Line(c1,c2)\n",
    "print(myline.distance(),'   ',myline.slope())"
   ]
  },
  {
   "cell_type": "code",
   "execution_count": 0,
   "metadata": {},
   "outputs": [],
   "source": [
    "from math import pi\n",
    "class Cylinder():\n",
    "    def __init__(self,height=1,radius=1):\n",
    "        self.height=height\n",
    "        self.radius=radius\n",
    "    def volume(self):\n",
    "        return pi*self.height*(self.radius**2)\n",
    "    def surface_area(self):\n",
    "        return (2*pi*self.radius**2)+(2*pi*self.radius*self.height)\n",
    "    "
   ]
  },
  {
   "cell_type": "code",
   "execution_count": 0,
   "metadata": {},
   "outputs": [],
   "source": [
    "mycyl=Cylinder(2,3)\n",
    "print(mycyl.volume(),mycyl.surface_area())"
   ]
  },
  {
   "cell_type": "code",
   "execution_count": 0,
   "metadata": {},
   "outputs": [],
   "source": [
    "# 67 video\n",
    "\n",
    "class Account():\n",
    "    def __init__(self,owner,balance=0):\n",
    "        self.owner=owner\n",
    "        self.balance=balance\n",
    "    \n",
    "    def deposit(self,dep_amt):\n",
    "        self.balance=self.balance+dep_amt\n",
    "        print(f\"Added {dep_amt} to the balance.Cur Bal : {self.balance}\")\n",
    "    \n",
    "    def withdrawal(self,wd_amt):\n",
    "\n",
    "        if self.balance>=wd_amt:\n",
    "            self.balance=self.balance-wd_amt\n",
    "            print(\"Withdrawal accepted\")\n",
    "        else:\n",
    "            print(\"Sorry not enough funds!\")\n",
    "    def __str__(self):\n",
    "        return f\"Owner : {self.owner} \\nBalance: {self.balance}\""
   ]
  },
  {
   "cell_type": "code",
   "execution_count": 0,
   "metadata": {},
   "outputs": [],
   "source": [
    "a=Account(\"Sam\",500)\n",
    "print(a.owner,a.balance)"
   ]
  },
  {
   "cell_type": "code",
   "execution_count": 0,
   "metadata": {},
   "outputs": [],
   "source": [
    "a.deposit(1000)\n",
    "print(a)"
   ]
  },
  {
   "cell_type": "code",
   "execution_count": 2,
   "metadata": {},
   "outputs": [
    {
     "ename": "NameError",
     "evalue": "name 'a' is not defined",
     "output_type": "error",
     "traceback": [
      "\u001b[1;31m---------------------------------------------------------------------------\u001b[0m",
      "\u001b[1;31mNameError\u001b[0m                                 Traceback (most recent call last)",
      "\u001b[1;32m<ipython-input-2-1bcafadce37c>\u001b[0m in \u001b[0;36m<module>\u001b[1;34m\u001b[0m\n\u001b[1;32m----> 1\u001b[1;33m \u001b[0ma\u001b[0m\u001b[1;33m.\u001b[0m\u001b[0mwithdrawal\u001b[0m\u001b[1;33m(\u001b[0m\u001b[1;36m1000\u001b[0m\u001b[1;33m)\u001b[0m\u001b[1;33m\u001b[0m\u001b[1;33m\u001b[0m\u001b[0m\n\u001b[0m\u001b[0;32m      2\u001b[0m \u001b[0mprint\u001b[0m\u001b[1;33m(\u001b[0m\u001b[0ma\u001b[0m\u001b[1;33m)\u001b[0m\u001b[1;33m\u001b[0m\u001b[1;33m\u001b[0m\u001b[0m\n\u001b[0;32m      3\u001b[0m \u001b[0ma\u001b[0m\u001b[1;33m.\u001b[0m\u001b[0mwithdrawal\u001b[0m\u001b[1;33m(\u001b[0m\u001b[1;36m2500\u001b[0m\u001b[1;33m)\u001b[0m\u001b[1;33m\u001b[0m\u001b[1;33m\u001b[0m\u001b[0m\n",
      "\u001b[1;31mNameError\u001b[0m: name 'a' is not defined"
     ]
    }
   ],
   "source": [
    "a.withdrawal(1000)\n",
    "print(a)\n",
    "a.withdrawal(2500)"
   ]
  },
  {
   "cell_type": "code",
   "execution_count": 0,
   "metadata": {},
   "outputs": [],
   "source": [
    "# video 71\n",
    "def add(a,b):\n",
    "    return a+b\n",
    "add(10,\"Add\")"
   ]
  },
  {
   "cell_type": "code",
   "execution_count": 0,
   "metadata": {},
   "outputs": [],
   "source": [
    "try:\n",
    "    add(12,12)\n",
    "except:\n",
    "    print('''Hey it looks like you aren't adding correctly''')\n",
    "else:\n",
    "    print(add(12,12))"
   ]
  },
  {
   "cell_type": "code",
   "execution_count": 1,
   "metadata": {},
   "outputs": [
    {
     "name": "stdout",
     "output_type": "stream",
     "text": "['\\x00\\x00\\x00\\x00\\x00\\x00\\x00\\x00\\x00\\x00\\x00\\x00\\x00\\x00\\x00\\x00\\x00\\x00\\x00\\x00\\x00\\x00\\x00\\x00\\x00\\x00\\x00\\x00\\x00\\x00\\x00\\x00\\x00\\x00\\x00\\x00\\x00\\x00\\x00\\x00\\x00\\x00\\x00\\x00\\x00\\x00\\x00\\x00\\x00\\x00\\x00\\x00\\x00\\x00\\x00\\x00\\x00\\x00\\x00\\x00\\x00\\x00\\x00\\x00\\x00\\x00\\x00\\x00Write a test lineWrite a test lineWrite a test lineWrite a test lineWrite a test lineWrite a test lineWrite a test lineWrite a test lineWrite a test lineWrite a test lineWrite a test lineWrite a test lineWrite a test lineWrite a test lineWrite a test lineWrite a test lineWrite a test line']\nOS Error\nI always run\n"
    }
   ],
   "source": [
    "try:\n",
    "    f=open('testfile','r')\n",
    "    print(f.readlines())\n",
    "    f.write('Write a test line')\n",
    "except TypeError:\n",
    "    print(\"Type error\")\n",
    "except OSError:\n",
    "    print(\"OS Error\")\n",
    "except:\n",
    "    print('any other exception')\n",
    "finally:\n",
    "    print(\"I always run\")"
   ]
  },
  {
   "cell_type": "code",
   "execution_count": 8,
   "metadata": {},
   "outputs": [
    {
     "name": "stdout",
     "output_type": "stream",
     "text": "Hello!\nHello!\n"
    }
   ],
   "source": [
    "import sys\n",
    "def hello():\n",
    "    print('Hello!')\n",
    "\n",
    "greet=hello\n",
    "greet()\n",
    "hello()"
   ]
  },
  {
   "cell_type": "code",
   "execution_count": 9,
   "metadata": {},
   "outputs": [
    {
     "name": "stdout",
     "output_type": "stream",
     "text": "(<class 'NameError'>, NameError(\"name 'hello' is not defined\"), <traceback object at 0x0000026FC449EC08>)\nHello!\n"
    }
   ],
   "source": [
    "\n",
    "del(hello)\n",
    "try:\n",
    "    hello()\n",
    "except:\n",
    "    print(sys.exc_info())\n",
    "greet()"
   ]
  },
  {
   "cell_type": "code",
   "execution_count": 10,
   "metadata": {},
   "outputs": [],
   "source": [
    "def hello(name='Jose'):\n",
    "    print('The hello() function has been executed!')\n",
    "\n",
    "    def greet():\n",
    "        return '\\t This is the greet() inside hello'\n",
    "\n",
    "    def welcome():\n",
    "        return '\\t This is the welcome() inside hello'\n",
    "\n",
    "    # print(greet())\n",
    "    # print(welcome())\n",
    "    if name== 'Jose':\n",
    "        return greet\n",
    "    else:\n",
    "        return welcome\n",
    "    # print('End of Hello Func')"
   ]
  },
  {
   "cell_type": "code",
   "execution_count": 11,
   "metadata": {},
   "outputs": [
    {
     "name": "stdout",
     "output_type": "stream",
     "text": "The hello() function has been executed!\n"
    }
   ],
   "source": [
    "my_new_func=hello('Jose')   "
   ]
  },
  {
   "cell_type": "code",
   "execution_count": 12,
   "metadata": {},
   "outputs": [
    {
     "name": "stdout",
     "output_type": "stream",
     "text": "This is the greet() inside hello\n"
    }
   ],
   "source": [
    "print(my_new_func())"
   ]
  },
  {
   "cell_type": "code",
   "execution_count": 1,
   "metadata": {},
   "outputs": [
    {
     "name": "stdout",
     "output_type": "stream",
     "text": "Other code runs here!\nHi Jose!\n"
    }
   ],
   "source": [
    "# Decorator\n",
    "\n",
    "def hello():\n",
    "    return 'Hi Jose!'\n",
    "def other(some_def_func):\n",
    "    print('Other code runs here!')\n",
    "    print(some_def_func())   \n",
    "\n",
    "other(hello)       "
   ]
  },
  {
   "cell_type": "code",
   "execution_count": 2,
   "metadata": {},
   "outputs": [],
   "source": [
    "def func_need_decorator():\n",
    "    print(\"I want to be decorated!!\")\n"
   ]
  },
  {
   "cell_type": "code",
   "execution_count": 3,
   "metadata": {},
   "outputs": [
    {
     "name": "stdout",
     "output_type": "stream",
     "text": "I want to be decorated!!\n"
    }
   ],
   "source": [
    "func_need_decorator()"
   ]
  },
  {
   "cell_type": "code",
   "execution_count": 4,
   "metadata": {},
   "outputs": [],
   "source": [
    "def new_decorator(original_func):\n",
    "    def wrap_func():\n",
    "        print('Some extra code before original func')\n",
    "        original_func()\n",
    "        print('Some extra code after original func')\n",
    "    return wrap_func\n"
   ]
  },
  {
   "cell_type": "code",
   "execution_count": 5,
   "metadata": {},
   "outputs": [
    {
     "name": "stdout",
     "output_type": "stream",
     "text": "Some extra code before original func\nI want to be decorated!!\nSome extra code after original func\n"
    }
   ],
   "source": [
    "decorated_func = new_decorator(func_need_decorator)\n",
    "decorated_func()"
   ]
  },
  {
   "cell_type": "code",
   "execution_count": 6,
   "metadata": {},
   "outputs": [],
   "source": [
    "@new_decorator\n",
    "def func_need_decorator():\n",
    "    print(\"I want to be decorated!!\")"
   ]
  },
  {
   "cell_type": "code",
   "execution_count": 7,
   "metadata": {},
   "outputs": [
    {
     "name": "stdout",
     "output_type": "stream",
     "text": "Some extra code before original func\nI want to be decorated!!\nSome extra code after original func\n"
    }
   ],
   "source": [
    "func_need_decorator()"
   ]
  },
  {
   "cell_type": "code",
   "execution_count": 28,
   "metadata": {},
   "outputs": [
    {
     "name": "stdout",
     "output_type": "stream",
     "text": "1.0027706623077393\n"
    }
   ],
   "source": [
    "# Generators\n",
    "import time\n",
    "t1=time.time()\n",
    "def create_cubes(n):\n",
    "    result=[]\n",
    "    for x in range(n):\n",
    "        result.append(x**3)\n",
    "    return result\n",
    "time.sleep(1)\n",
    "t2=time.time()\n",
    "print(t2-t1)\n",
    "del(t1,t2)"
   ]
  },
  {
   "cell_type": "code",
   "execution_count": 29,
   "metadata": {},
   "outputs": [
    {
     "name": "stdout",
     "output_type": "stream",
     "text": "0\n1\n8\n27\n64\n125\n216\n343\n512\n729\n1000\n1331\n1728\n2197\n2744\n3375\n4096\n4913\n5832\n6859\n8000\n9261\n10648\n12167\n13824\n15625\n17576\n19683\n21952\n24389\n27000\n29791\n32768\n35937\n39304\n42875\n46656\n50653\n54872\n59319\n64000\n68921\n74088\n79507\n85184\n91125\n97336\n103823\n110592\n117649\n125000\n132651\n140608\n148877\n157464\n166375\n175616\n185193\n195112\n205379\n216000\n226981\n238328\n250047\n262144\n274625\n287496\n300763\n314432\n328509\n343000\n357911\n373248\n389017\n405224\n421875\n438976\n456533\n474552\n493039\n512000\n531441\n551368\n571787\n592704\n614125\n636056\n658503\n681472\n704969\n729000\n753571\n778688\n804357\n830584\n857375\n884736\n912673\n941192\n970299\n1000000\n1030301\n1061208\n1092727\n1124864\n1157625\n1191016\n1225043\n1259712\n1295029\n1331000\n1367631\n1404928\n1442897\n1481544\n1520875\n1560896\n1601613\n1643032\n1685159\n1728000\n1771561\n1815848\n1860867\n1906624\n1953125\n2000376\n2048383\n2097152\n2146689\n2197000\n2248091\n2299968\n2352637\n2406104\n2460375\n2515456\n2571353\n2628072\n2685619\n2744000\n2803221\n2863288\n2924207\n2985984\n3048625\n3112136\n3176523\n3241792\n3307949\n3375000\n3442951\n3511808\n3581577\n3652264\n3723875\n3796416\n3869893\n3944312\n4019679\n4096000\n4173281\n4251528\n4330747\n4410944\n4492125\n4574296\n4657463\n4741632\n4826809\n4913000\n5000211\n5088448\n5177717\n5268024\n5359375\n5451776\n5545233\n5639752\n5735339\n5832000\n5929741\n6028568\n6128487\n6229504\n6331625\n6434856\n6539203\n6644672\n6751269\n6859000\n6967871\n7077888\n7189057\n7301384\n7414875\n7529536\n7645373\n7762392\n7880599\n8000000\n8120601\n8242408\n8365427\n8489664\n8615125\n8741816\n8869743\n8998912\n9129329\n9261000\n9393931\n9528128\n9663597\n9800344\n9938375\n10077696\n10218313\n10360232\n10503459\n10648000\n10793861\n10941048\n11089567\n11239424\n11390625\n11543176\n11697083\n11852352\n12008989\n12167000\n12326391\n12487168\n12649337\n12812904\n12977875\n13144256\n13312053\n13481272\n13651919\n13824000\n13997521\n14172488\n14348907\n14526784\n14706125\n14886936\n15069223\n15252992\n15438249\n15625000\n15813251\n16003008\n16194277\n16387064\n16581375\n16777216\n16974593\n17173512\n17373979\n17576000\n17779581\n17984728\n18191447\n18399744\n18609625\n18821096\n19034163\n19248832\n19465109\n19683000\n19902511\n20123648\n20346417\n20570824\n20796875\n21024576\n21253933\n21484952\n21717639\n21952000\n22188041\n22425768\n22665187\n22906304\n23149125\n23393656\n23639903\n23887872\n24137569\n24389000\n24642171\n24897088\n25153757\n25412184\n25672375\n25934336\n26198073\n26463592\n26730899\n27000000\n27270901\n27543608\n27818127\n28094464\n28372625\n28652616\n28934443\n29218112\n29503629\n29791000\n30080231\n30371328\n30664297\n30959144\n31255875\n31554496\n31855013\n32157432\n32461759\n32768000\n33076161\n33386248\n33698267\n34012224\n34328125\n34645976\n34965783\n35287552\n35611289\n35937000\n36264691\n36594368\n36926037\n37259704\n37595375\n37933056\n38272753\n38614472\n38958219\n39304000\n39651821\n40001688\n40353607\n40707584\n41063625\n41421736\n41781923\n42144192\n42508549\n42875000\n43243551\n43614208\n43986977\n44361864\n44738875\n45118016\n45499293\n45882712\n46268279\n46656000\n47045881\n47437928\n47832147\n48228544\n48627125\n49027896\n49430863\n49836032\n50243409\n50653000\n51064811\n51478848\n51895117\n52313624\n52734375\n53157376\n53582633\n54010152\n54439939\n54872000\n55306341\n55742968\n56181887\n56623104\n57066625\n57512456\n57960603\n58411072\n58863869\n59319000\n59776471\n60236288\n60698457\n61162984\n61629875\n62099136\n62570773\n63044792\n63521199\n64000000\n64481201\n64964808\n65450827\n65939264\n66430125\n66923416\n67419143\n67917312\n68417929\n68921000\n69426531\n69934528\n70444997\n70957944\n71473375\n71991296\n72511713\n73034632\n73560059\n74088000\n74618461\n75151448\n75686967\n76225024\n76765625\n77308776\n77854483\n78402752\n78953589\n79507000\n80062991\n80621568\n81182737\n81746504\n82312875\n82881856\n83453453\n84027672\n84604519\n85184000\n85766121\n86350888\n86938307\n87528384\n88121125\n88716536\n89314623\n89915392\n90518849\n91125000\n91733851\n92345408\n92959677\n93576664\n94196375\n94818816\n95443993\n96071912\n96702579\n97336000\n97972181\n98611128\n99252847\n99897344\n100544625\n101194696\n101847563\n102503232\n103161709\n103823000\n104487111\n105154048\n105823817\n106496424\n107171875\n107850176\n108531333\n109215352\n109902239\n110592000\n111284641\n111980168\n112678587\n113379904\n114084125\n114791256\n115501303\n116214272\n116930169\n117649000\n118370771\n119095488\n119823157\n120553784\n121287375\n122023936\n122763473\n123505992\n124251499\n125000000\n125751501\n126506008\n127263527\n128024064\n128787625\n129554216\n130323843\n131096512\n131872229\n132651000\n133432831\n134217728\n135005697\n135796744\n136590875\n137388096\n138188413\n138991832\n139798359\n140608000\n141420761\n142236648\n143055667\n143877824\n144703125\n145531576\n146363183\n147197952\n148035889\n148877000\n149721291\n150568768\n151419437\n152273304\n153130375\n153990656\n154854153\n155720872\n156590819\n157464000\n158340421\n159220088\n160103007\n160989184\n161878625\n162771336\n163667323\n164566592\n165469149\n166375000\n167284151\n168196608\n169112377\n170031464\n170953875\n171879616\n172808693\n173741112\n174676879\n175616000\n176558481\n177504328\n178453547\n179406144\n180362125\n181321496\n182284263\n183250432\n184220009\n185193000\n186169411\n187149248\n188132517\n189119224\n190109375\n191102976\n192100033\n193100552\n194104539\n195112000\n196122941\n197137368\n198155287\n199176704\n200201625\n201230056\n202262003\n203297472\n204336469\n205379000\n206425071\n207474688\n208527857\n209584584\n210644875\n211708736\n212776173\n213847192\n214921799\n216000000\n217081801\n218167208\n219256227\n220348864\n221445125\n222545016\n223648543\n224755712\n225866529\n226981000\n228099131\n229220928\n230346397\n231475544\n232608375\n233744896\n234885113\n236029032\n237176659\n238328000\n239483061\n240641848\n241804367\n242970624\n244140625\n245314376\n246491883\n247673152\n248858189\n250047000\n251239591\n252435968\n253636137\n254840104\n256047875\n257259456\n258474853\n259694072\n260917119\n262144000\n263374721\n264609288\n265847707\n267089984\n268336125\n269586136\n270840023\n272097792\n273359449\n274625000\n275894451\n277167808\n278445077\n279726264\n281011375\n282300416\n283593393\n284890312\n286191179\n287496000\n288804781\n290117528\n291434247\n292754944\n294079625\n295408296\n296740963\n298077632\n299418309\n300763000\n302111711\n303464448\n304821217\n306182024\n307546875\n308915776\n310288733\n311665752\n313046839\n314432000\n315821241\n317214568\n318611987\n320013504\n321419125\n322828856\n324242703\n325660672\n327082769\n328509000\n329939371\n331373888\n332812557\n334255384\n335702375\n337153536\n338608873\n340068392\n341532099\n343000000\n344472101\n345948408\n347428927\n348913664\n350402625\n351895816\n353393243\n354894912\n356400829\n357911000\n359425431\n360944128\n362467097\n363994344\n365525875\n367061696\n368601813\n370146232\n371694959\n373248000\n374805361\n376367048\n377933067\n379503424\n381078125\n382657176\n384240583\n385828352\n387420489\n389017000\n390617891\n392223168\n393832837\n395446904\n397065375\n398688256\n400315553\n401947272\n403583419\n405224000\n406869021\n408518488\n410172407\n411830784\n413493625\n415160936\n416832723\n418508992\n420189749\n421875000\n423564751\n425259008\n426957777\n428661064\n430368875\n432081216\n433798093\n435519512\n437245479\n438976000\n440711081\n442450728\n444194947\n445943744\n447697125\n449455096\n451217663\n452984832\n454756609\n456533000\n458314011\n460099648\n461889917\n463684824\n465484375\n467288576\n469097433\n470910952\n472729139\n474552000\n476379541\n478211768\n480048687\n481890304\n483736625\n485587656\n487443403\n489303872\n491169069\n493039000\n494913671\n496793088\n498677257\n500566184\n502459875\n504358336\n506261573\n508169592\n510082399\n512000000\n513922401\n515849608\n517781627\n519718464\n521660125\n523606616\n525557943\n527514112\n529475129\n531441000\n533411731\n535387328\n537367797\n539353144\n541343375\n543338496\n545338513\n547343432\n549353259\n551368000\n553387661\n555412248\n557441767\n559476224\n561515625\n563559976\n565609283\n567663552\n569722789\n571787000\n573856191\n575930368\n578009537\n580093704\n582182875\n584277056\n586376253\n588480472\n590589719\n592704000\n594823321\n596947688\n599077107\n601211584\n603351125\n605495736\n607645423\n609800192\n611960049\n614125000\n616295051\n618470208\n620650477\n622835864\n625026375\n627222016\n629422793\n631628712\n633839779\n636056000\n638277381\n640503928\n642735647\n644972544\n647214625\n649461896\n651714363\n653972032\n656234909\n658503000\n660776311\n663054848\n665338617\n667627624\n669921875\n672221376\n674526133\n676836152\n679151439\n681472000\n683797841\n686128968\n688465387\n690807104\n693154125\n695506456\n697864103\n700227072\n702595369\n704969000\n707347971\n709732288\n712121957\n714516984\n716917375\n719323136\n721734273\n724150792\n726572699\n729000000\n731432701\n733870808\n736314327\n738763264\n741217625\n743677416\n746142643\n748613312\n751089429\n753571000\n756058031\n758550528\n761048497\n763551944\n766060875\n768575296\n771095213\n773620632\n776151559\n778688000\n781229961\n783777448\n786330467\n788889024\n791453125\n794022776\n796597983\n799178752\n801765089\n804357000\n806954491\n809557568\n812166237\n814780504\n817400375\n820025856\n822656953\n825293672\n827936019\n830584000\n833237621\n835896888\n838561807\n841232384\n843908625\n846590536\n849278123\n851971392\n854670349\n857375000\n860085351\n862801408\n865523177\n868250664\n870983875\n873722816\n876467493\n879217912\n881974079\n884736000\n887503681\n890277128\n893056347\n895841344\n898632125\n901428696\n904231063\n907039232\n909853209\n912673000\n915498611\n918330048\n921167317\n924010424\n926859375\n929714176\n932574833\n935441352\n938313739\n941192000\n944076141\n946966168\n949862087\n952763904\n955671625\n958585256\n961504803\n964430272\n967361669\n970299000\n973242271\n976191488\n979146657\n982107784\n985074875\n988047936\n991026973\n994011992\n997002999\n1.0835342407226562\n"
    }
   ],
   "source": [
    "t1=time.time()\n",
    "time.sleep(1)\n",
    "for x in create_cubes(1000):\n",
    "    print(x)\n",
    "t2=time.time()\n",
    "print(t2-t1)"
   ]
  },
  {
   "cell_type": "code",
   "execution_count": 30,
   "metadata": {},
   "outputs": [],
   "source": [
    "def create_cubes(n):\n",
    "    for x in range(n):\n",
    "        yield x**3"
   ]
  },
  {
   "cell_type": "code",
   "execution_count": 31,
   "metadata": {},
   "outputs": [
    {
     "name": "stdout",
     "output_type": "stream",
     "text": "0\n1\n8\n27\n64\n125\n216\n343\n512\n729\n1000\n1331\n1728\n2197\n2744\n3375\n4096\n4913\n5832\n6859\n8000\n9261\n10648\n12167\n13824\n15625\n17576\n19683\n21952\n24389\n27000\n29791\n32768\n35937\n39304\n42875\n46656\n50653\n54872\n59319\n64000\n68921\n74088\n79507\n85184\n91125\n97336\n103823\n110592\n117649\n125000\n132651\n140608\n148877\n157464\n166375\n175616\n185193\n195112\n205379\n216000\n226981\n238328\n250047\n262144\n274625\n287496\n300763\n314432\n328509\n343000\n357911\n373248\n389017\n405224\n421875\n438976\n456533\n474552\n493039\n512000\n531441\n551368\n571787\n592704\n614125\n636056\n658503\n681472\n704969\n729000\n753571\n778688\n804357\n830584\n857375\n884736\n912673\n941192\n970299\n1000000\n1030301\n1061208\n1092727\n1124864\n1157625\n1191016\n1225043\n1259712\n1295029\n1331000\n1367631\n1404928\n1442897\n1481544\n1520875\n1560896\n1601613\n1643032\n1685159\n1728000\n1771561\n1815848\n1860867\n1906624\n1953125\n2000376\n2048383\n2097152\n2146689\n2197000\n2248091\n2299968\n2352637\n2406104\n2460375\n2515456\n2571353\n2628072\n2685619\n2744000\n2803221\n2863288\n2924207\n2985984\n3048625\n3112136\n3176523\n3241792\n3307949\n3375000\n3442951\n3511808\n3581577\n3652264\n3723875\n3796416\n3869893\n3944312\n4019679\n4096000\n4173281\n4251528\n4330747\n4410944\n4492125\n4574296\n4657463\n4741632\n4826809\n4913000\n5000211\n5088448\n5177717\n5268024\n5359375\n5451776\n5545233\n5639752\n5735339\n5832000\n5929741\n6028568\n6128487\n6229504\n6331625\n6434856\n6539203\n6644672\n6751269\n6859000\n6967871\n7077888\n7189057\n7301384\n7414875\n7529536\n7645373\n7762392\n7880599\n8000000\n8120601\n8242408\n8365427\n8489664\n8615125\n8741816\n8869743\n8998912\n9129329\n9261000\n9393931\n9528128\n9663597\n9800344\n9938375\n10077696\n10218313\n10360232\n10503459\n10648000\n10793861\n10941048\n11089567\n11239424\n11390625\n11543176\n11697083\n11852352\n12008989\n12167000\n12326391\n12487168\n12649337\n12812904\n12977875\n13144256\n13312053\n13481272\n13651919\n13824000\n13997521\n14172488\n14348907\n14526784\n14706125\n14886936\n15069223\n15252992\n15438249\n15625000\n15813251\n16003008\n16194277\n16387064\n16581375\n16777216\n16974593\n17173512\n17373979\n17576000\n17779581\n17984728\n18191447\n18399744\n18609625\n18821096\n19034163\n19248832\n19465109\n19683000\n19902511\n20123648\n20346417\n20570824\n20796875\n21024576\n21253933\n21484952\n21717639\n21952000\n22188041\n22425768\n22665187\n22906304\n23149125\n23393656\n23639903\n23887872\n24137569\n24389000\n24642171\n24897088\n25153757\n25412184\n25672375\n25934336\n26198073\n26463592\n26730899\n27000000\n27270901\n27543608\n27818127\n28094464\n28372625\n28652616\n28934443\n29218112\n29503629\n29791000\n30080231\n30371328\n30664297\n30959144\n31255875\n31554496\n31855013\n32157432\n32461759\n32768000\n33076161\n33386248\n33698267\n34012224\n34328125\n34645976\n34965783\n35287552\n35611289\n35937000\n36264691\n36594368\n36926037\n37259704\n37595375\n37933056\n38272753\n38614472\n38958219\n39304000\n39651821\n40001688\n40353607\n40707584\n41063625\n41421736\n41781923\n42144192\n42508549\n42875000\n43243551\n43614208\n43986977\n44361864\n44738875\n45118016\n45499293\n45882712\n46268279\n46656000\n47045881\n47437928\n47832147\n48228544\n48627125\n49027896\n49430863\n49836032\n50243409\n50653000\n51064811\n51478848\n51895117\n52313624\n52734375\n53157376\n53582633\n54010152\n54439939\n54872000\n55306341\n55742968\n56181887\n56623104\n57066625\n57512456\n57960603\n58411072\n58863869\n59319000\n59776471\n60236288\n60698457\n61162984\n61629875\n62099136\n62570773\n63044792\n63521199\n64000000\n64481201\n64964808\n65450827\n65939264\n66430125\n66923416\n67419143\n67917312\n68417929\n68921000\n69426531\n69934528\n70444997\n70957944\n71473375\n71991296\n72511713\n73034632\n73560059\n74088000\n74618461\n75151448\n75686967\n76225024\n76765625\n77308776\n77854483\n78402752\n78953589\n79507000\n80062991\n80621568\n81182737\n81746504\n82312875\n82881856\n83453453\n84027672\n84604519\n85184000\n85766121\n86350888\n86938307\n87528384\n88121125\n88716536\n89314623\n89915392\n90518849\n91125000\n91733851\n92345408\n92959677\n93576664\n94196375\n94818816\n95443993\n96071912\n96702579\n97336000\n97972181\n98611128\n99252847\n99897344\n100544625\n101194696\n101847563\n102503232\n103161709\n103823000\n104487111\n105154048\n105823817\n106496424\n107171875\n107850176\n108531333\n109215352\n109902239\n110592000\n111284641\n111980168\n112678587\n113379904\n114084125\n114791256\n115501303\n116214272\n116930169\n117649000\n118370771\n119095488\n119823157\n120553784\n121287375\n122023936\n122763473\n123505992\n124251499\n125000000\n125751501\n126506008\n127263527\n128024064\n128787625\n129554216\n130323843\n131096512\n131872229\n132651000\n133432831\n134217728\n135005697\n135796744\n136590875\n137388096\n138188413\n138991832\n139798359\n140608000\n141420761\n142236648\n143055667\n143877824\n144703125\n145531576\n146363183\n147197952\n148035889\n148877000\n149721291\n150568768\n151419437\n152273304\n153130375\n153990656\n154854153\n155720872\n156590819\n157464000\n158340421\n159220088\n160103007\n160989184\n161878625\n162771336\n163667323\n164566592\n165469149\n166375000\n167284151\n168196608\n169112377\n170031464\n170953875\n171879616\n172808693\n173741112\n174676879\n175616000\n176558481\n177504328\n178453547\n179406144\n180362125\n181321496\n182284263\n183250432\n184220009\n185193000\n186169411\n187149248\n188132517\n189119224\n190109375\n191102976\n192100033\n193100552\n194104539\n195112000\n196122941\n197137368\n198155287\n199176704\n200201625\n201230056\n202262003\n203297472\n204336469\n205379000\n206425071\n207474688\n208527857\n209584584\n210644875\n211708736\n212776173\n213847192\n214921799\n216000000\n217081801\n218167208\n219256227\n220348864\n221445125\n222545016\n223648543\n224755712\n225866529\n226981000\n228099131\n229220928\n230346397\n231475544\n232608375\n233744896\n234885113\n236029032\n237176659\n238328000\n239483061\n240641848\n241804367\n242970624\n244140625\n245314376\n246491883\n247673152\n248858189\n250047000\n251239591\n252435968\n253636137\n254840104\n256047875\n257259456\n258474853\n259694072\n260917119\n262144000\n263374721\n264609288\n265847707\n267089984\n268336125\n269586136\n270840023\n272097792\n273359449\n274625000\n275894451\n277167808\n278445077\n279726264\n281011375\n282300416\n283593393\n284890312\n286191179\n287496000\n288804781\n290117528\n291434247\n292754944\n294079625\n295408296\n296740963\n298077632\n299418309\n300763000\n302111711\n303464448\n304821217\n306182024\n307546875\n308915776\n310288733\n311665752\n313046839\n314432000\n315821241\n317214568\n318611987\n320013504\n321419125\n322828856\n324242703\n325660672\n327082769\n328509000\n329939371\n331373888\n332812557\n334255384\n335702375\n337153536\n338608873\n340068392\n341532099\n343000000\n344472101\n345948408\n347428927\n348913664\n350402625\n351895816\n353393243\n354894912\n356400829\n357911000\n359425431\n360944128\n362467097\n363994344\n365525875\n367061696\n368601813\n370146232\n371694959\n373248000\n374805361\n376367048\n377933067\n379503424\n381078125\n382657176\n384240583\n385828352\n387420489\n389017000\n390617891\n392223168\n393832837\n395446904\n397065375\n398688256\n400315553\n401947272\n403583419\n405224000\n406869021\n408518488\n410172407\n411830784\n413493625\n415160936\n416832723\n418508992\n420189749\n421875000\n423564751\n425259008\n426957777\n428661064\n430368875\n432081216\n433798093\n435519512\n437245479\n438976000\n440711081\n442450728\n444194947\n445943744\n447697125\n449455096\n451217663\n452984832\n454756609\n456533000\n458314011\n460099648\n461889917\n463684824\n465484375\n467288576\n469097433\n470910952\n472729139\n474552000\n476379541\n478211768\n480048687\n481890304\n483736625\n485587656\n487443403\n489303872\n491169069\n493039000\n494913671\n496793088\n498677257\n500566184\n502459875\n504358336\n506261573\n508169592\n510082399\n512000000\n513922401\n515849608\n517781627\n519718464\n521660125\n523606616\n525557943\n527514112\n529475129\n531441000\n533411731\n535387328\n537367797\n539353144\n541343375\n543338496\n545338513\n547343432\n549353259\n551368000\n553387661\n555412248\n557441767\n559476224\n561515625\n563559976\n565609283\n567663552\n569722789\n571787000\n573856191\n575930368\n578009537\n580093704\n582182875\n584277056\n586376253\n588480472\n590589719\n592704000\n594823321\n596947688\n599077107\n601211584\n603351125\n605495736\n607645423\n609800192\n611960049\n614125000\n616295051\n618470208\n620650477\n622835864\n625026375\n627222016\n629422793\n631628712\n633839779\n636056000\n638277381\n640503928\n642735647\n644972544\n647214625\n649461896\n651714363\n653972032\n656234909\n658503000\n660776311\n663054848\n665338617\n667627624\n669921875\n672221376\n674526133\n676836152\n679151439\n681472000\n683797841\n686128968\n688465387\n690807104\n693154125\n695506456\n697864103\n700227072\n702595369\n704969000\n707347971\n709732288\n712121957\n714516984\n716917375\n719323136\n721734273\n724150792\n726572699\n729000000\n731432701\n733870808\n736314327\n738763264\n741217625\n743677416\n746142643\n748613312\n751089429\n753571000\n756058031\n758550528\n761048497\n763551944\n766060875\n768575296\n771095213\n773620632\n776151559\n778688000\n781229961\n783777448\n786330467\n788889024\n791453125\n794022776\n796597983\n799178752\n801765089\n804357000\n806954491\n809557568\n812166237\n814780504\n817400375\n820025856\n822656953\n825293672\n827936019\n830584000\n833237621\n835896888\n838561807\n841232384\n843908625\n846590536\n849278123\n851971392\n854670349\n857375000\n860085351\n862801408\n865523177\n868250664\n870983875\n873722816\n876467493\n879217912\n881974079\n884736000\n887503681\n890277128\n893056347\n895841344\n898632125\n901428696\n904231063\n907039232\n909853209\n912673000\n915498611\n918330048\n921167317\n924010424\n926859375\n929714176\n932574833\n935441352\n938313739\n941192000\n944076141\n946966168\n949862087\n952763904\n955671625\n958585256\n961504803\n964430272\n967361669\n970299000\n973242271\n976191488\n979146657\n982107784\n985074875\n988047936\n991026973\n994011992\n997002999\n1.0771794319152832\n"
    }
   ],
   "source": [
    "t1=time.time()\n",
    "time.sleep(1)\n",
    "for x in create_cubes(1000):\n",
    "    print(x)\n",
    "t2=time.time()\n",
    "print(t2-t1)"
   ]
  },
  {
   "cell_type": "code",
   "execution_count": 32,
   "metadata": {},
   "outputs": [],
   "source": [
    "def gen_fibon(n):\n",
    "    a=1\n",
    "    b=1\n",
    "    for i in range(n):\n",
    "        yield a+b\n",
    "        a,b=b,a+b"
   ]
  },
  {
   "cell_type": "code",
   "execution_count": 36,
   "metadata": {},
   "outputs": [
    {
     "name": "stdout",
     "output_type": "stream",
     "text": "2\n3\n5\n8\n13\n"
    }
   ],
   "source": [
    "for i in gen_fibon(5):\n",
    "    print(i)"
   ]
  },
  {
   "cell_type": "code",
   "execution_count": 37,
   "metadata": {},
   "outputs": [],
   "source": [
    "def simple_gen():\n",
    "    for x in range(5):\n",
    "        yield x\n"
   ]
  },
  {
   "cell_type": "code",
   "execution_count": 38,
   "metadata": {},
   "outputs": [
    {
     "name": "stdout",
     "output_type": "stream",
     "text": "0\n1\n2\n3\n4\n"
    }
   ],
   "source": [
    "for x in simple_gen():\n",
    "    print(x)"
   ]
  },
  {
   "cell_type": "code",
   "execution_count": 48,
   "metadata": {},
   "outputs": [
    {
     "data": {
      "text/plain": "<generator object simple_gen at 0x00000211D11AD660>"
     },
     "execution_count": 48,
     "metadata": {},
     "output_type": "execute_result"
    }
   ],
   "source": [
    "g = simple_gen()\n",
    "g"
   ]
  },
  {
   "cell_type": "code",
   "execution_count": 49,
   "metadata": {},
   "outputs": [
    {
     "name": "stdout",
     "output_type": "stream",
     "text": "0\n"
    }
   ],
   "source": [
    "print(next(g))"
   ]
  },
  {
   "cell_type": "code",
   "execution_count": 58,
   "metadata": {},
   "outputs": [
    {
     "name": "stdout",
     "output_type": "stream",
     "text": "'str' object is not an iterator\n"
    }
   ],
   "source": [
    "s='Hello'\n",
    "# next(s)\n",
    "try:\n",
    "    next(s)\n",
    "except:\n",
    "    print(\"'str' object is not an iterator\")\n",
    "finally:\n",
    "    s_iter=iter(s) #iter converts string to  iterator\n"
   ]
  },
  {
   "cell_type": "code",
   "execution_count": 59,
   "metadata": {},
   "outputs": [
    {
     "name": "stdout",
     "output_type": "stream",
     "text": "H\n"
    }
   ],
   "source": [
    "print(next(s_iter))"
   ]
  },
  {
   "cell_type": "code",
   "execution_count": 60,
   "metadata": {},
   "outputs": [
    {
     "name": "stdout",
     "output_type": "stream",
     "text": "0\n1\n4\n9\n16\n"
    }
   ],
   "source": [
    "def gen_squares(n):\n",
    "    for i in range(n):\n",
    "        yield i**2\n",
    "    \n",
    "for i in gen_squares(5):\n",
    "    print(i)\n"
   ]
  },
  {
   "cell_type": "code",
   "execution_count": 62,
   "metadata": {},
   "outputs": [
    {
     "data": {
      "text/plain": "8"
     },
     "execution_count": 62,
     "metadata": {},
     "output_type": "execute_result"
    }
   ],
   "source": [
    "import random\n",
    "random.randint(1,10)"
   ]
  },
  {
   "cell_type": "code",
   "execution_count": 63,
   "metadata": {},
   "outputs": [],
   "source": [
    "def rand_num(low,high,n):\n",
    "    for i in range(n):\n",
    "        yield random.randint(low,high)"
   ]
  },
  {
   "cell_type": "code",
   "execution_count": 67,
   "metadata": {},
   "outputs": [
    {
     "name": "stdout",
     "output_type": "stream",
     "text": "7\n6\n10\n3\n9\n8\n5\n1\n1\n8\n7\n8\n"
    }
   ],
   "source": [
    "for num in rand_num(1,10,12):\n",
    "    print(num)"
   ]
  },
  {
   "cell_type": "code",
   "execution_count": 68,
   "metadata": {},
   "outputs": [
    {
     "name": "stdout",
     "output_type": "stream",
     "text": "H\n"
    }
   ],
   "source": [
    "s='Hello'\n",
    "s=iter(s)\n",
    "print(next(s))"
   ]
  },
  {
   "cell_type": "code",
   "execution_count": 70,
   "metadata": {},
   "outputs": [
    {
     "name": "stdout",
     "output_type": "stream",
     "text": "4\n5\n"
    }
   ],
   "source": [
    "# generator comprehension\n",
    "li=[1,2,3,4,5]\n",
    "gencomp=(item for item in li if item >3)\n",
    "\n",
    "for item in gencomp:\n",
    "    print(item)"
   ]
  },
  {
   "cell_type": "markdown",
   "execution_count": null,
   "metadata": {},
   "outputs": [],
   "source": [
    "# from stack over flow\n",
    ">>> my_list = [1, 3, 5, 9, 2, 6]\n",
    ">>> filtered_list = [item for item in my_list if item > 3]\n",
    ">>> print filtered_list\n",
    "[5, 9, 6]\n",
    ">>> len(filtered_list)\n",
    "3\n",
    ">>> # compare to generator expression\n",
    "... \n",
    ">>> filtered_gen = (item for item in my_list if item > 3)\n",
    ">>> print filtered_gen  # notice it's a generator object\n",
    "<generator object at 0xb7d5e02c>\n",
    ">>> len(filtered_gen) # So technically, it has no length\n",
    "Traceback (most recent call last):\n",
    "  File \"<stdin>\", line 1, in <module>\n",
    "TypeError: object of type 'generator' has no len()\n",
    ">>> # We extract each item out individually. We'll do it manually first.\n",
    "... \n",
    ">>> filtered_gen.next()\n",
    "5\n",
    ">>> filtered_gen.next()\n",
    "9\n",
    ">>> filtered_gen.next()\n",
    "6\n",
    ">>> filtered_gen.next() # Should be all out of items and give an error\n",
    "Traceback (most recent call last):\n",
    "  File \"<stdin>\", line 1, in <module>\n",
    "StopIteration\n",
    ">>> # Yup, the generator is spent. No values for you!\n",
    "... \n",
    ">>> # Let's prove it gives the same results as our list comprehension\n",
    "... \n",
    ">>> filtered_gen = (item for item in my_list if item > 3)\n",
    ">>> gen_to_list = list(filtered_gen)\n",
    ">>> print gen_to_list\n",
    "[5, 9, 6]\n",
    ">>> filtered_list == gen_to_list\n",
    "True\n",
    ">>> \n"
   ]
  },
  {
   "cell_type": "code",
   "execution_count": 86,
   "metadata": {},
   "outputs": [
    {
     "name": "stdout",
     "output_type": "stream",
     "text": "Counter({1: 4, 7: 3, 8: 3, 6: 2, 2: 1, 3: 1, 4: 1, 5: 1}) \n Counter({'a': 5, 's': 4, 'j': 3, 'l': 3, 'd': 1, 'k': 1})\n['how', 'hi', 'many', 'time', 'to', 'so', 'how', 'many', 'hi', 'what', 'do', 'i', 'hi', 'to', 'i', 'time', 'how', 'go', 'go', 'boat']\nCounter({'how': 3, 'hi': 3, 'many': 2, 'time': 2, 'to': 2, 'i': 2, 'go': 2, 'so': 1, 'what': 1, 'do': 1, 'boat': 1}) \nSum of values: 20 \nMost common :  [('how', 3), ('hi', 3), ('many', 2)]\n"
    }
   ],
   "source": [
    "# Counter\n",
    "from collections import Counter\n",
    "li = [1,2,1,1,1,3,4,5,6,7,8,6,7,8,7,8]\n",
    "print(Counter(li),'\\n',Counter('asajdslkjaslajsal'))\n",
    "s='how hi many time to so how many hi what do i hi to i time how go go boat'\n",
    "words=s.split()\n",
    "print(words)\n",
    "cword=Counter(words)\n",
    "print(cword,'\\nSum of values:',sum(cword.values()),\"\\nMost common : \",cword.most_common(3))\n"
   ]
  },
  {
   "cell_type": "code",
   "execution_count": 95,
   "metadata": {},
   "outputs": [
    {
     "name": "stdout",
     "output_type": "stream",
     "text": "one , 0\ntwo , dsad1\none\ntwo\n"
    }
   ],
   "source": [
    "# default dict\n",
    "\n",
    "from collections import defaultdict\n",
    "\n",
    "d=defaultdict(lambda:0)\n",
    "\n",
    "d['one']\n",
    "\n",
    "d['two']='dsad1'\n",
    "\n",
    "for k,i in d.items():\n",
    "    print(k,',',i)\n",
    "for i in d:\n",
    "    print(i)\n"
   ]
  },
  {
   "cell_type": "code",
   "execution_count": 103,
   "metadata": {},
   "outputs": [],
   "source": [
    "# ordered dict\n",
    "\n",
    "d={}\n",
    "d['a'] = 1\n",
    "d['b'] = 2\n",
    "d['c'] = 3\n"
   ]
  },
  {
   "cell_type": "code",
   "execution_count": 104,
   "metadata": {},
   "outputs": [
    {
     "data": {
      "text/plain": "{'a': 1, 'b': 2, 'c': 3, 'd': 4, 'e': 5}"
     },
     "execution_count": 104,
     "metadata": {},
     "output_type": "execute_result"
    }
   ],
   "source": [
    "\n",
    "d['d'] = 4\n",
    "d['e'] = 5\n",
    "d"
   ]
  },
  {
   "cell_type": "code",
   "execution_count": 105,
   "metadata": {},
   "outputs": [
    {
     "name": "stdout",
     "output_type": "stream",
     "text": "a 1\nb 2\nc 3\nd 4\ne 5\n"
    }
   ],
   "source": [
    "for k,v in d.items():\n",
    "    print(k,v)"
   ]
  },
  {
   "cell_type": "code",
   "execution_count": 106,
   "metadata": {},
   "outputs": [
    {
     "name": "stdout",
     "output_type": "stream",
     "text": "a 1\nb 2\nc 3\nd 4\ne 5\n"
    }
   ],
   "source": [
    "from collections import OrderedDict\n",
    "\n",
    "d= OrderedDict()\n",
    "\n",
    "d['a'] = 1\n",
    "d['b'] = 2\n",
    "d['c'] = 3\n",
    "d['d'] = 4\n",
    "d['e'] = 5\n",
    "\n",
    "for k,v in d.items():\n",
    "    print(k,v)"
   ]
  },
  {
   "cell_type": "code",
   "execution_count": 109,
   "metadata": {},
   "outputs": [
    {
     "name": "stdout",
     "output_type": "stream",
     "text": "True\nFalse\n"
    }
   ],
   "source": [
    "d1={}\n",
    "d1['a']=1\n",
    "d1['b']=2\n",
    "\n",
    "d2={}\n",
    "d2['b']=2\n",
    "d2['a']=1\n",
    "\n",
    "print(d1==d2)\n",
    "\n",
    "d1=OrderedDict()\n",
    "d1['a']=1\n",
    "d1['b']=2\n",
    "\n",
    "d2=OrderedDict()\n",
    "d2['b']=2\n",
    "d2['a']=1\n",
    "\n",
    "print(d1==d2)"
   ]
  },
  {
   "cell_type": "code",
   "execution_count": 111,
   "metadata": {},
   "outputs": [],
   "source": [
    "t= (1,2,3)\n"
   ]
  },
  {
   "cell_type": "code",
   "execution_count": 112,
   "metadata": {},
   "outputs": [
    {
     "name": "stdout",
     "output_type": "stream",
     "text": "1\n"
    }
   ],
   "source": [
    "print(t[0])"
   ]
  },
  {
   "cell_type": "code",
   "execution_count": 113,
   "metadata": {},
   "outputs": [],
   "source": [
    "from collections import namedtuple\n",
    "\n",
    "Dog=namedtuple('Dog','age breed name')\n"
   ]
  },
  {
   "cell_type": "code",
   "execution_count": 115,
   "metadata": {},
   "outputs": [
    {
     "data": {
      "text/plain": "Dog(age=2, breed='Lab', name='sammy')"
     },
     "execution_count": 115,
     "metadata": {},
     "output_type": "execute_result"
    }
   ],
   "source": [
    "sam = Dog(name='sammy',age=2,breed='Lab')\n",
    "sam"
   ]
  },
  {
   "cell_type": "code",
   "execution_count": 116,
   "metadata": {},
   "outputs": [],
   "source": [
    "import datetime\n"
   ]
  },
  {
   "cell_type": "code",
   "execution_count": 140,
   "metadata": {},
   "outputs": [
    {
     "name": "stdout",
     "output_type": "stream",
     "text": "05:25:02\n"
    }
   ],
   "source": [
    "t=datetime.time(5,25,2)\n",
    "print(t)"
   ]
  },
  {
   "cell_type": "code",
   "execution_count": 146,
   "metadata": {},
   "outputs": [
    {
     "name": "stdout",
     "output_type": "stream",
     "text": "None\n"
    }
   ],
   "source": [
    "print(t.tzinfo)"
   ]
  },
  {
   "cell_type": "code",
   "execution_count": 119,
   "metadata": {},
   "outputs": [
    {
     "name": "stdout",
     "output_type": "stream",
     "text": "00:00:00 23:59:59.999999\n0:00:00.000001\n"
    }
   ],
   "source": [
    "print(datetime.time.min,datetime.time.max)\n",
    "print(datetime.time.resolution)"
   ]
  },
  {
   "cell_type": "code",
   "execution_count": 127,
   "metadata": {},
   "outputs": [
    {
     "name": "stdout",
     "output_type": "stream",
     "text": "2019-12-19 time.struct_time(tm_year=2019, tm_mon=12, tm_mday=19, tm_hour=0, tm_min=0, tm_sec=0, tm_wday=3, tm_yday=353, tm_isdst=-1)\n19\n1 day, 0:00:00\n"
    }
   ],
   "source": [
    "today = datetime.date.today()\n",
    "print(today,today.timetuple())\n",
    "print(today.day)\n",
    "print(datetime.date.resolution)"
   ]
  },
  {
   "cell_type": "code",
   "execution_count": 128,
   "metadata": {},
   "outputs": [
    {
     "name": "stdout",
     "output_type": "stream",
     "text": "2015-03-11\n"
    }
   ],
   "source": [
    "d1 = datetime.date(2015,3,11)\n",
    "print(d1)\n"
   ]
  },
  {
   "cell_type": "code",
   "execution_count": 129,
   "metadata": {},
   "outputs": [
    {
     "data": {
      "text/plain": "datetime.date(1990, 3, 11)"
     },
     "execution_count": 129,
     "metadata": {},
     "output_type": "execute_result"
    }
   ],
   "source": [
    "d2=d1.replace(year=1990)"
   ]
  },
  {
   "cell_type": "code",
   "execution_count": 134,
   "metadata": {},
   "outputs": [
    {
     "name": "stdout",
     "output_type": "stream",
     "text": "9131 days, 0:00:00\n"
    },
    {
     "data": {
      "text/plain": "datetime.timedelta(days=9131)"
     },
     "execution_count": 134,
     "metadata": {},
     "output_type": "execute_result"
    }
   ],
   "source": [
    "print(d1-d2)\n",
    "d1-d2"
   ]
  },
  {
   "cell_type": "code",
   "execution_count": null,
   "metadata": {},
   "outputs": [],
   "source": []
  }
 ]
}