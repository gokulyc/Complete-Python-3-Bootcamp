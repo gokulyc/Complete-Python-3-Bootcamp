{
 "nbformat": 4,
 "nbformat_minor": 2,
 "metadata": {
  "language_info": {
   "name": "python",
   "codemirror_mode": {
    "name": "ipython",
    "version": 3
   },
   "version": "3.7.3"
  },
  "orig_nbformat": 2,
  "file_extension": ".py",
  "mimetype": "text/x-python",
  "name": "python",
  "npconvert_exporter": "python",
  "pygments_lexer": "ipython3",
  "version": 3
 },
 "cells": [
  {
   "cell_type": "code",
   "execution_count": 1,
   "metadata": {},
   "outputs": [
    {
     "name": "stdout",
     "output_type": "stream",
     "text": "ello\nello Wor\ndlroW olleH\ndrWolH\nHello world\nhello world\nHello World\nHELLO WORLD\n<built-in method upper of str object at 0x000001677A6CE830>\n"
    }
   ],
   "source": [
    "str=\"Hello World\"\n",
    "print(str[1:5])\n",
    "print(str[1:9])\n",
    "print(str[::-1])\n",
    "print(str[::-2])\n",
    "print(str.capitalize())\n",
    "\n",
    "print(str.casefold())\n",
    "\n",
    "print(str.center(4))\n",
    "print(str.upper())\n",
    "print(str.upper)"
   ]
  },
  {
   "cell_type": "code",
   "execution_count": 2,
   "metadata": {},
   "outputs": [
    {
     "name": "stdout",
     "output_type": "stream",
     "text": "['Hello', 'World']\n"
    }
   ],
   "source": [
    "print(str.split(\" \"))"
   ]
  },
  {
   "cell_type": "code",
   "execution_count": 3,
   "metadata": {},
   "outputs": [
    {
     "name": "stdout",
     "output_type": "stream",
     "text": "Hi i am Gokul\n4+6=10\nwrong result 4+10=6\nfvs+bjbnd=jdhgv\n"
    }
   ],
   "source": [
    "print(\"Hi i am {}\".format(\"Gokul\"))\n",
    "\n",
    "print(\"{0}+{1}={2}\".format(4,6,10))\n",
    "\n",
    "print(\"wrong result {0}+{2}={1}\".format(4,6,10))\n",
    "\n",
    "print(\"{name}+{n1}={n3}\".format(name='fvs',n1='bjbnd',n3='jdhgv'))\n",
    "\n"
   ]
  },
  {
   "cell_type": "code",
   "execution_count": 4,
   "metadata": {},
   "outputs": [
    {
     "name": "stdout",
     "output_type": "stream",
     "text": "result is 0.129\nresult is      0.129\nresult is      0.129\n"
    }
   ],
   "source": [
    "ans=100/777\n",
    "ans\n",
    "print(\"result is {r:1.3f}\".format(r=ans))\n",
    "print(\"result is {r:10.3f}\".format(r=ans))\n",
    "\n",
    "# f strings >python 3.6\n",
    "print(f\"result is {ans:10.3f}\")\n"
   ]
  },
  {
   "cell_type": "code",
   "execution_count": 5,
   "metadata": {},
   "outputs": [
    {
     "name": "stdout",
     "output_type": "stream",
     "text": "[1, 2, 3, 9, 5, 6]\n[1, 2, 3, 5, 6, 9]\n"
    }
   ],
   "source": [
    "mylist=[1,2,3,9,5]\n",
    "len(mylist)\n",
    "mylist.append(6)\n",
    "print(mylist)\n",
    "print(sorted(mylist))"
   ]
  },
  {
   "cell_type": "code",
   "execution_count": 6,
   "metadata": {},
   "outputs": [
    {
     "name": "stdout",
     "output_type": "stream",
     "text": "None --- [1, 2, 3, 5, 6, 9]\n"
    }
   ],
   "source": [
    "# mylist.pop()\n",
    "print(mylist.sort(),'---',mylist)"
   ]
  },
  {
   "cell_type": "code",
   "execution_count": 7,
   "metadata": {},
   "outputs": [
    {
     "data": {
      "text/plain": "{'name': 'Gokul', 'id': 'GO353663'}"
     },
     "execution_count": 7,
     "metadata": {},
     "output_type": "execute_result"
    }
   ],
   "source": [
    "my_dict={'name':'Gokul','id':'GO353663'}\n",
    "my_dict"
   ]
  },
  {
   "cell_type": "code",
   "execution_count": 8,
   "metadata": {},
   "outputs": [
    {
     "data": {
      "text/plain": "'Gokul'"
     },
     "execution_count": 8,
     "metadata": {},
     "output_type": "execute_result"
    }
   ],
   "source": [
    "len(my_dict['name'])\n",
    "my_dict['name']"
   ]
  },
  {
   "cell_type": "code",
   "execution_count": 9,
   "metadata": {},
   "outputs": [
    {
     "name": "stdout",
     "output_type": "stream",
     "text": "apple:15.0f : 120\noranges:15.0f : 80\nmilk:15.0f : 30\n"
    }
   ],
   "source": [
    "prices={'apple':120,'oranges':80,'milk':30}\n",
    "prices['apple']\n",
    "for ele in prices:\n",
    "    print('{}:15.0f'.format(ele),':',prices[ele])"
   ]
  },
  {
   "cell_type": "code",
   "execution_count": 10,
   "metadata": {},
   "outputs": [
    {
     "name": "stdout",
     "output_type": "stream",
     "text": "k1 : 100\nk2 : [1, 3, 4, 5]\nk3 : {'i1': 123, 'i2': 'gokul'}\n"
    },
    {
     "data": {
      "text/plain": "'GOKUL'"
     },
     "execution_count": 10,
     "metadata": {},
     "output_type": "execute_result"
    }
   ],
   "source": [
    "d={'k1':100,'k2':[1,3,4,5],'k3':{'i1':123,'i2':'gokul'}}\n",
    "for ele in d:\n",
    "    print(ele,':',d[ele])\n",
    "d['k3']['i2'].upper()"
   ]
  },
  {
   "cell_type": "code",
   "execution_count": 11,
   "metadata": {},
   "outputs": [
    {
     "name": "stdout",
     "output_type": "stream",
     "text": "{'k1': 100, 'k2': [1, 3, 4, 5], 'k3': {'i1': 123, 'i2': 'gokul'}, 'k4': 'new value'}\ndict_keys(['k1', 'k2', 'k3', 'k4'])\ndict_values([100, [1, 3, 4, 5], {'i1': 123, 'i2': 'gokul'}, 'new value'])\ndict_items([('k1', 100), ('k2', [1, 3, 4, 5]), ('k3', {'i1': 123, 'i2': 'gokul'}), ('k4', 'new value')])\n"
    }
   ],
   "source": [
    "d['k4']='new value'\n",
    "print(d)\n",
    "print(d.keys())\n",
    "print(d.values())\n",
    "print(d.items())"
   ]
  },
  {
   "cell_type": "code",
   "execution_count": 12,
   "metadata": {},
   "outputs": [
    {
     "name": "stdout",
     "output_type": "stream",
     "text": "('abc', 123, 'pot') <class 'tuple'> 3 123\n"
    },
    {
     "ename": "TypeError",
     "evalue": "index() takes at least 1 argument (0 given)",
     "output_type": "error",
     "traceback": [
      "\u001b[1;31m---------------------------------------------------------------------------\u001b[0m",
      "\u001b[1;31mTypeError\u001b[0m                                 Traceback (most recent call last)",
      "\u001b[1;32m<ipython-input-12-b218c42f56db>\u001b[0m in \u001b[0;36m<module>\u001b[1;34m\u001b[0m\n\u001b[0;32m      1\u001b[0m \u001b[0mtup\u001b[0m\u001b[1;33m=\u001b[0m\u001b[1;33m(\u001b[0m\u001b[1;34m'abc'\u001b[0m\u001b[1;33m,\u001b[0m\u001b[1;36m123\u001b[0m\u001b[1;33m,\u001b[0m\u001b[1;34m'pot'\u001b[0m\u001b[1;33m)\u001b[0m\u001b[1;33m\u001b[0m\u001b[1;33m\u001b[0m\u001b[0m\n\u001b[0;32m      2\u001b[0m \u001b[0mprint\u001b[0m\u001b[1;33m(\u001b[0m\u001b[0mtup\u001b[0m\u001b[1;33m,\u001b[0m\u001b[0mtype\u001b[0m\u001b[1;33m(\u001b[0m\u001b[0mtup\u001b[0m\u001b[1;33m)\u001b[0m\u001b[1;33m,\u001b[0m\u001b[0mlen\u001b[0m\u001b[1;33m(\u001b[0m\u001b[0mtup\u001b[0m\u001b[1;33m)\u001b[0m\u001b[1;33m,\u001b[0m\u001b[0mtup\u001b[0m\u001b[1;33m[\u001b[0m\u001b[1;33m-\u001b[0m\u001b[1;36m2\u001b[0m\u001b[1;33m]\u001b[0m\u001b[1;33m)\u001b[0m\u001b[1;33m\u001b[0m\u001b[1;33m\u001b[0m\u001b[0m\n\u001b[1;32m----> 3\u001b[1;33m \u001b[1;32mfor\u001b[0m \u001b[0miele\u001b[0m \u001b[1;32min\u001b[0m \u001b[0mtup\u001b[0m\u001b[1;33m.\u001b[0m\u001b[0mindex\u001b[0m\u001b[1;33m(\u001b[0m\u001b[1;33m)\u001b[0m\u001b[1;33m:\u001b[0m\u001b[1;33m\u001b[0m\u001b[1;33m\u001b[0m\u001b[0m\n\u001b[0m\u001b[0;32m      4\u001b[0m     \u001b[0mprint\u001b[0m\u001b[1;33m(\u001b[0m\u001b[0miele\u001b[0m\u001b[1;33m)\u001b[0m\u001b[1;33m\u001b[0m\u001b[1;33m\u001b[0m\u001b[0m\n",
      "\u001b[1;31mTypeError\u001b[0m: index() takes at least 1 argument (0 given)"
     ]
    }
   ],
   "source": [
    "tup=('abc',123,'pot')\n",
    "print(tup,type(tup),len(tup),tup[-2])\n",
    "for iele in tup.index():\n",
    "    print(iele)\n"
   ]
  },
  {
   "cell_type": "code",
   "execution_count": 0,
   "metadata": {},
   "outputs": [],
   "source": [
    "tup[0]=1"
   ]
  },
  {
   "cell_type": "code",
   "execution_count": 0,
   "metadata": {},
   "outputs": [],
   "source": [
    "#sets\n",
    "\n",
    "myset=set()\n",
    "myset.add(1)\n",
    "myset.add(2)\n",
    "\n",
    "print(myset)"
   ]
  },
  {
   "cell_type": "code",
   "execution_count": 0,
   "metadata": {},
   "outputs": [],
   "source": [
    "myset.add(2)\n",
    "print(myset)\n",
    "print(set([1,1,1,2,2,2,3,3,3]))\n",
    "print(set('Mississippi'))"
   ]
  },
  {
   "cell_type": "code",
   "execution_count": 0,
   "metadata": {},
   "outputs": [],
   "source": [
    "#Boolean\n",
    "\n",
    "print(True+False)\n",
    "\n",
    "print(1>2)"
   ]
  },
  {
   "cell_type": "code",
   "execution_count": 0,
   "metadata": {},
   "outputs": [],
   "source": [
    "%%writefile myfile.txt\n",
    "\n",
    "hi i am gokul.\n",
    "this is second line\n",
    "third line\n"
   ]
  },
  {
   "cell_type": "code",
   "execution_count": 0,
   "metadata": {},
   "outputs": [],
   "source": [
    "import os\n",
    "myfile = open('myfile.txt')\n",
    "os.getcwd()\n",
    "\n",
    "# import pathlib\n",
    "# current_dir = pathlib.Path(__file__).parent\n",
    "# current_file = pathlib.Path(__file__)"
   ]
  },
  {
   "cell_type": "code",
   "execution_count": 0,
   "metadata": {},
   "outputs": [],
   "source": [
    "myfile.read()"
   ]
  },
  {
   "cell_type": "code",
   "execution_count": 0,
   "metadata": {},
   "outputs": [],
   "source": [
    "myfile.read()"
   ]
  },
  {
   "cell_type": "code",
   "execution_count": 0,
   "metadata": {},
   "outputs": [],
   "source": [
    "myfile.seek(0)"
   ]
  },
  {
   "cell_type": "code",
   "execution_count": 0,
   "metadata": {},
   "outputs": [],
   "source": [
    "contents=myfile.read()\n",
    "repr(contents)\n",
    "print(contents)\n",
    "myfile.close()"
   ]
  },
  {
   "cell_type": "code",
   "execution_count": 0,
   "metadata": {},
   "outputs": [],
   "source": [
    "with open('myfile.txt',mode='r') as myfile: # modes r w a r+ w+\n",
    "    contents=myfile.read()\n",
    "    repr(contents)\n",
    "    print(contents)\n",
    "    # myfile.close() not needed\n"
   ]
  },
  {
   "cell_type": "code",
   "execution_count": 0,
   "metadata": {},
   "outputs": [],
   "source": [
    "%%writefile mynewfile.txt\n",
    "\n",
    "hi i am gokul.\n",
    "this is second line\n",
    "third line"
   ]
  },
  {
   "cell_type": "code",
   "execution_count": 0,
   "metadata": {},
   "outputs": [],
   "source": [
    "with open('mynewfile.txt',mode='a') as mynewfile: # modes r w a r+ w+\n",
    "    mynewfile.write('\\nnew line')\n",
    "    "
   ]
  },
  {
   "cell_type": "code",
   "execution_count": 0,
   "metadata": {},
   "outputs": [],
   "source": [
    "with open('mynewfile.txt',mode='r') as mynewfile: # modes r w a r+ w+\n",
    "    # mynewfile.write('new line')\n",
    "    contents=mynewfile.read()\n",
    "    repr(contents)\n",
    "    print(contents)"
   ]
  },
  {
   "cell_type": "code",
   "execution_count": 0,
   "metadata": {},
   "outputs": [],
   "source": [
    "# if else\n",
    "hungry= True\n",
    "if hungry:\n",
    "    print('Feed Me!')\n",
    "else:\n",
    "    print('i am not hungry')\n"
   ]
  },
  {
   "cell_type": "code",
   "execution_count": 0,
   "metadata": {},
   "outputs": [],
   "source": [
    "loc = 'Bank'\n",
    "\n",
    "if loc == 'Auto Shop':\n",
    "    print(\"Cars are cool!\")\n",
    "elif loc == 'Bank':\n",
    "    print(\"Money is cool\")\n",
    "else:\n",
    "    print('No idea')"
   ]
  },
  {
   "cell_type": "code",
   "execution_count": 0,
   "metadata": {},
   "outputs": [],
   "source": [
    "li=[1,3,2,4,5]\n",
    "for ele in li:\n",
    "    print(ele)"
   ]
  },
  {
   "cell_type": "code",
   "execution_count": 0,
   "metadata": {},
   "outputs": [],
   "source": [
    "for num in li:\n",
    "    # check even\n",
    "    if num%2 == 0:\n",
    "        print(num)\n",
    "    else:\n",
    "        print(f'Odd Num : {num}')"
   ]
  },
  {
   "cell_type": "code",
   "execution_count": 0,
   "metadata": {},
   "outputs": [],
   "source": [
    "\n",
    "li_sum=0\n",
    "\n",
    "for num in li:\n",
    "    li_sum=li_sum+num\n",
    "    print(li_sum)\n",
    "print('total : ',li_sum)"
   ]
  },
  {
   "cell_type": "code",
   "execution_count": 0,
   "metadata": {},
   "outputs": [],
   "source": [
    "str='hello world'\n",
    "\n",
    "for letter in str:\n",
    "    print(letter)"
   ]
  },
  {
   "cell_type": "code",
   "execution_count": 0,
   "metadata": {},
   "outputs": [],
   "source": [
    "tup=(1,2,3)\n",
    "\n",
    "for ele in tup:\n",
    "    print(ele)   "
   ]
  },
  {
   "cell_type": "code",
   "execution_count": 0,
   "metadata": {},
   "outputs": [],
   "source": [
    "myl = [(1,2),(3,4),(5,6),(7,8)]\n",
    "\n",
    "print(len(myl))"
   ]
  },
  {
   "cell_type": "code",
   "execution_count": 0,
   "metadata": {},
   "outputs": [],
   "source": [
    "for ele in myl:\n",
    "    print(ele)\n",
    "# tuple unpacking\n",
    "for (a,b) in myl:\n",
    "    print(a,b)"
   ]
  },
  {
   "cell_type": "code",
   "execution_count": 0,
   "metadata": {},
   "outputs": [],
   "source": [
    "# dict\n",
    "d={'k1':1,'k2':2,'k3':3}\n",
    "# type(d)\n",
    "\n",
    "for ele in d:\n",
    "    print(ele)\n",
    "for ele in d.items():\n",
    "    print(ele)\n",
    "for key,ele in d.items():\n",
    "    print(key,ele)"
   ]
  },
  {
   "cell_type": "code",
   "execution_count": 0,
   "metadata": {},
   "outputs": [],
   "source": [
    "# pass break continue\n",
    "\n",
    "str = 'abcdefg'\n",
    "\n",
    "for i in str:\n",
    "    pass\n",
    "for i in str:\n",
    "    if i == 'a':\n",
    "        continue\n",
    "    if i == 'f':\n",
    "        continue\n",
    "    print(i)"
   ]
  },
  {
   "cell_type": "code",
   "execution_count": 0,
   "metadata": {},
   "outputs": [],
   "source": [
    "# Range\n",
    "print(range(3),range(1,3),range(1,9,3))\n",
    "\n",
    "for i in range(3):\n",
    "    print(i)\n",
    "print()\n",
    "for i in range(1,3):\n",
    "    print(i)\n",
    "print()\n",
    "for i in range(1,9,3):\n",
    "    print(i)"
   ]
  },
  {
   "cell_type": "code",
   "execution_count": 0,
   "metadata": {},
   "outputs": [],
   "source": [
    "# Enumerate\n",
    "\n",
    "word='abcde'\n",
    "for item in enumerate(word):\n",
    "    print(item)\n",
    "for item in enumerate(word):\n",
    "    print(f\"{item[1]} is at {item[0]}\")\n",
    "\n"
   ]
  },
  {
   "cell_type": "code",
   "execution_count": 0,
   "metadata": {},
   "outputs": [],
   "source": [
    "# Zip\n",
    "\n",
    "li1=[1,2,3,4]\n",
    "li2=['a','b','c']\n",
    "\n",
    "for i,j in zip(li1,li2):\n",
    "    print(i,j)"
   ]
  },
  {
   "cell_type": "code",
   "execution_count": 0,
   "metadata": {},
   "outputs": [],
   "source": [
    "# in\n",
    "\n",
    "print(2 in [2,4,5])"
   ]
  },
  {
   "cell_type": "code",
   "execution_count": 0,
   "metadata": {},
   "outputs": [],
   "source": [
    "# min max\n",
    "print(min(li1),max(li1))"
   ]
  },
  {
   "cell_type": "code",
   "execution_count": 0,
   "metadata": {},
   "outputs": [],
   "source": [
    "# shuffle, random\n",
    "from random import shuffle\n",
    "\n",
    "mylist=[1,2,3,4,5,6,7,8,9,0]\n",
    "print(shuffle(mylist),mylist)"
   ]
  },
  {
   "cell_type": "code",
   "execution_count": 0,
   "metadata": {},
   "outputs": [],
   "source": [
    "from random import randint\n",
    "num = randint(2,99)\n",
    "print(num)"
   ]
  },
  {
   "cell_type": "code",
   "execution_count": 0,
   "metadata": {},
   "outputs": [],
   "source": [
    "#  input\n",
    "\n",
    "num=int(input(\"enter a number:\"))"
   ]
  },
  {
   "cell_type": "code",
   "execution_count": 0,
   "metadata": {},
   "outputs": [],
   "source": [
    "# list comprehension\n",
    "str=\"Hello World\"\n",
    "\n",
    "mylist=[letter for letter in str]\n",
    "print(mylist)"
   ]
  },
  {
   "cell_type": "code",
   "execution_count": 0,
   "metadata": {},
   "outputs": [],
   "source": [
    "results = [x if x%2==0 else 'ODD' for x in range(0,11)]\n",
    "res1 = [x for x in range(0,11) if x%2==0 ]\n",
    "print(results,res1)"
   ]
  },
  {
   "cell_type": "code",
   "execution_count": 0,
   "metadata": {},
   "outputs": [],
   "source": [
    "celcius=[0,10,20,34.5]\n",
    "fahrenheit=[((9/5)*temp+32) for temp in celcius]\n",
    "print(fahrenheit)"
   ]
  },
  {
   "cell_type": "code",
   "execution_count": 0,
   "metadata": {},
   "outputs": [],
   "source": [
    "%%time\n",
    "mylist=[x*y for x in [2,4,6] for y in [1,10,100]]\n",
    "print(mylist)"
   ]
  },
  {
   "cell_type": "code",
   "execution_count": 0,
   "metadata": {},
   "outputs": [],
   "source": [
    "# %pwd\n",
    "# %env\n",
    "# %lsmagic\n",
    "# magic commands\n",
    "help(mylist.extend)\n"
   ]
  },
  {
   "cell_type": "code",
   "execution_count": 0,
   "metadata": {},
   "outputs": [],
   "source": [
    "def sayhello(name=\"default\"):\n",
    "    return \"Hello \"+name\n",
    "print(sayhello())\n",
    "print(sayhello('time'))"
   ]
  },
  {
   "cell_type": "code",
   "execution_count": 0,
   "metadata": {},
   "outputs": [],
   "source": [
    "# string search\n",
    "def str_check(str,sentence):\n",
    "    return str.lower() in sentence.lower()\n",
    "print(str_check('Gokul','hi i am gokul'))"
   ]
  },
  {
   "cell_type": "code",
   "execution_count": 0,
   "metadata": {},
   "outputs": [],
   "source": [
    "# pig latin string special\n",
    "def pig_latin(word):\n",
    "    first_letter = word[0]\n",
    "\n",
    "    # check if vowel\n",
    "    if first_letter in 'aeiou':\n",
    "        pig_word=word+'ay'\n",
    "    else:\n",
    "        pig_word=word[1:]+first_letter+'ay'\n",
    "    return pig_word\n",
    "print(pig_latin('apple'))\n",
    "print(pig_latin('fapple'))"
   ]
  },
  {
   "cell_type": "code",
   "execution_count": 0,
   "metadata": {},
   "outputs": [],
   "source": [
    "# *args and **kwargs in Python\n",
    "\n",
    "def myfunc(*args):\n",
    "    print(args)\n",
    "    return sum(args)*0.05\n",
    "\n",
    "print(myfunc(10.20,60,100,154))\n",
    "\n",
    "def myfunc1(**kwargs):\n",
    "    print(kwargs)\n",
    "    if 'fruit' in kwargs:\n",
    "        print('Fruit of my choice is {}'.format(kwargs['fruit']))\n",
    "    else:\n",
    "        print('I did not find any fruit here')\n",
    "myfunc1(fruit='Apple',veggie='lettuce')\n",
    "\n",
    "def myfunc2(*args,**kwargs):\n",
    "    return args,kwargs\n",
    "print(myfunc2(10,20,30,fruit='apple',veggie='potato'))\n",
    "print(myfunc2(a=True,10,20,30,fruit='apple',veggie='potato',40))"
   ]
  },
  {
   "cell_type": "code",
   "execution_count": 0,
   "metadata": {},
   "outputs": [],
   "source": [
    "def myfunc5(*args):\n",
    "    li=[]\n",
    "    for item in args:\n",
    "        if item%2==0:\n",
    "            li.append(item)\n",
    "    return li\n",
    "myfunc5(1,2,3,4,5,6,7,8)"
   ]
  },
  {
   "cell_type": "code",
   "execution_count": 0,
   "metadata": {},
   "outputs": [],
   "source": [
    "def myfunc(str):\n",
    "    i=0\n",
    "    str1=''\n",
    "    for item in str:\n",
    "        if(i%2==0):\n",
    "            str1=str1+item.upper()\n",
    "        else:\n",
    "            str1=str1+item.lower()\n",
    "        i+=1\n",
    "    return str1\n",
    "\n",
    "myfunc('HelloWorld')"
   ]
  },
  {
   "cell_type": "code",
   "execution_count": 0,
   "metadata": {},
   "outputs": [],
   "source": [
    "%%time\n",
    "def lesser_of_twoeven(a,b):\n",
    "    if a%2==0 and b%2==0:\n",
    "        if a<b:\n",
    "            result=a\n",
    "        else:\n",
    "            result=b\n",
    "    else:\n",
    "        if a>b:\n",
    "            result=a\n",
    "        else:\n",
    "            result=b\n",
    "    return result\n",
    "print(lesser_of_twoeven(2,5))\n",
    "print(lesser_of_twoeven(2,4))"
   ]
  },
  {
   "cell_type": "code",
   "execution_count": 0,
   "metadata": {},
   "outputs": [],
   "source": [
    "%%time\n",
    "def lesser_of_twoeven(a,b):\n",
    "    if a%2==0 and b%2==0:\n",
    "        result=min(a,b)\n",
    "    else:\n",
    "        result=max(a,b)\n",
    "    return result\n",
    "print(lesser_of_twoeven(2,5))\n",
    "print(lesser_of_twoeven(2,4))"
   ]
  },
  {
   "cell_type": "code",
   "execution_count": 0,
   "metadata": {},
   "outputs": [],
   "source": [
    "# list join\n",
    "li=['Hi,','I','am','Gokul']\n",
    "print(' '.join(li))"
   ]
  },
  {
   "cell_type": "code",
   "execution_count": 0,
   "metadata": {},
   "outputs": [],
   "source": [
    "# Spy Game used stack for \n",
    "def spy_game(nums):\n",
    "    code=[0,0,7,'x']\n",
    "\n",
    "    for num in nums:\n",
    "        if num == code[0]:\n",
    "            code.pop(0)\n",
    "    return len(code)==1\n",
    "\n",
    "print(spy_game([1,2,3,4,5,6,7]),spy_game([0,0,5,6,8,3,7]),spy_game([0,5,6,8,3,7]))"
   ]
  },
  {
   "cell_type": "code",
   "execution_count": 0,
   "metadata": {},
   "outputs": [],
   "source": [
    "def check_even(num):\n",
    "    return num%2==0\n",
    "mynums = [1,2,3,4,5,6]\n",
    "print(list(filter(check_even,mynums)))"
   ]
  },
  {
   "cell_type": "code",
   "execution_count": 0,
   "metadata": {},
   "outputs": [],
   "source": [
    "# def check_even(num):\n",
    "#     return num%2==0\n",
    "mynums = [1,2,3,4,5,6]\n",
    "check_even=lambda num: num%2==0\n",
    "print(list(filter(lambda num: num%2==0,mynums)))"
   ]
  },
  {
   "cell_type": "code",
   "execution_count": 0,
   "metadata": {},
   "outputs": [],
   "source": [
    "# map \n",
    "%time\n",
    "def square(num):\n",
    "    return num**2\n",
    "my_nums = [1,2,3,4,5]\n",
    "for item in map(square,my_nums):\n",
    "    print(item)\n",
    "print(list(map(square,my_nums)))"
   ]
  },
  {
   "cell_type": "code",
   "execution_count": 0,
   "metadata": {},
   "outputs": [],
   "source": [
    "# lambda expression\n",
    "\n",
    "%time\n",
    "square = lambda num: num**2\n",
    "my_nums = [1,2,3,4,5]\n",
    "for item in map(square,my_nums):\n",
    "    print(item)\n",
    "print(list(map(lambda num: num**2,my_nums)))"
   ]
  },
  {
   "cell_type": "code",
   "execution_count": 0,
   "metadata": {},
   "outputs": [],
   "source": [
    "# LEGB Rule Local,Enclosing function local,Global, Builtin\n",
    "\n",
    "print(lambda num : num**2)\n",
    "print(square)"
   ]
  },
  {
   "cell_type": "code",
   "execution_count": 0,
   "metadata": {},
   "outputs": [],
   "source": [
    "# Global\n",
    "name='Global'\n",
    "\n",
    "def greet():\n",
    "    # Enclosing funtion\n",
    "    name='Sammy'\n",
    "\n",
    "    def hello():\n",
    "        # Local\n",
    "        # global name\n",
    "        name=\"i am local\"\n",
    "        print('Hello '+name)\n",
    "    hello()\n",
    "greet()\n",
    "print(name)"
   ]
  },
  {
   "cell_type": "code",
   "execution_count": 0,
   "metadata": {},
   "outputs": [],
   "source": [
    "import string\n",
    "print(string.ascii_lowercase)\n",
    "def ispangram(str,alphabet=string.ascii_lowercase):\n",
    "    alphaset=set(alphabet)\n",
    "    return alphaset<=set(str.lower())\n",
    "ispangram('the quick brown fox jumps over the lazy dog')\n",
    "# print(set('i am gokul, i am worst nightmare you can ever face'))"
   ]
  },
  {
   "cell_type": "code",
   "execution_count": 0,
   "metadata": {},
   "outputs": [],
   "source": [
    "class Dog():\n",
    "    # Class object attribute\n",
    "    # Same for any instance of class\n",
    "    species='Mammal'\n",
    "    def __init__(self,breed,name,spots):\n",
    "        self.breed=breed\n",
    "        self.name=name\n",
    "        # bool type : spots\n",
    "        self.spots=spots\n",
    "    def bark(self,number):\n",
    "        print('WOOF!, my name is {} and number is {}'.format(self.name,number))\n",
    "        print(self)\n"
   ]
  },
  {
   "cell_type": "code",
   "execution_count": 0,
   "metadata": {},
   "outputs": [],
   "source": [
    "my_dog=Dog('Lab',name='Sammy',spots=False)\n",
    "my_dog1=Dog('Lab',name='Sammy',spots=False)\n",
    "type(my_dog)\n",
    "print(my_dog.breed,my_dog.name,my_dog.spots,my_dog.species)\n",
    "my_dog.bark(10)\n",
    "my_dog1.bark(11)"
   ]
  },
  {
   "cell_type": "code",
   "execution_count": 0,
   "metadata": {},
   "outputs": [],
   "source": [
    "class Circle():\n",
    "    pi = 3.14\n",
    "    def __init__(self,radius=1):\n",
    "        self.radius=radius\n",
    "        self.area=radius*radius*self.pi\n",
    "    def get_circumference(self):\n",
    "        return self.radius*self.pi*2\n"
   ]
  },
  {
   "cell_type": "code",
   "execution_count": 0,
   "metadata": {},
   "outputs": [],
   "source": [
    "my_c1=Circle(30)\n",
    "print(my_c1.get_circumference(),my_c1.area)\n"
   ]
  },
  {
   "cell_type": "code",
   "execution_count": 0,
   "metadata": {},
   "outputs": [],
   "source": [
    "class Animal():\n",
    "    def __init__(self):\n",
    "        print(\"Animal Created\")\n",
    "    def who_am_i(self):\n",
    "        print('I am an animal')\n",
    "    def eat(self):\n",
    "        print(\"I am eating\")\n"
   ]
  },
  {
   "cell_type": "code",
   "execution_count": 0,
   "metadata": {},
   "outputs": [],
   "source": [
    "my_a1=Animal()\n",
    "my_a1.who_am_i()\n",
    "my_a1.eat()"
   ]
  },
  {
   "cell_type": "code",
   "execution_count": 0,
   "metadata": {},
   "outputs": [],
   "source": [
    "class Dog(Animal):\n",
    "    def __init__(self):\n",
    "        Animal.__init__(self)\n",
    "        print('Dog Created')\n",
    "    def bark(self):\n",
    "        print('WOOF!')\n",
    "    def eat(self):\n",
    "        print(\"I am a dog and eating\")\n",
    "       \n"
   ]
  },
  {
   "cell_type": "code",
   "execution_count": 0,
   "metadata": {},
   "outputs": [],
   "source": [
    "mydog=Dog()"
   ]
  },
  {
   "cell_type": "code",
   "execution_count": 0,
   "metadata": {},
   "outputs": [],
   "source": [
    "mydog.eat()\n",
    "mydog.who_am_i()"
   ]
  },
  {
   "cell_type": "code",
   "execution_count": 0,
   "metadata": {},
   "outputs": [],
   "source": [
    "class Dog():\n",
    "    def __init__(self,name):\n",
    "        self.name=name\n",
    "    def speak(self):\n",
    "        return self.name+' says woof!'\n",
    "class Cat():\n",
    "    def __init__(self,name):\n",
    "        self.name=name\n",
    "    def speak(self):\n",
    "        return self.name+' says meow!'\n",
    "        "
   ]
  },
  {
   "cell_type": "code",
   "execution_count": 0,
   "metadata": {},
   "outputs": [],
   "source": [
    "niko=Dog(\"niko\")\n",
    "felix=Cat(\"felix\")"
   ]
  },
  {
   "cell_type": "code",
   "execution_count": 0,
   "metadata": {},
   "outputs": [],
   "source": [
    "print(niko.speak())\n",
    "print(felix.speak())"
   ]
  },
  {
   "cell_type": "code",
   "execution_count": 0,
   "metadata": {},
   "outputs": [],
   "source": [
    "def pet_speak(pet):\n",
    "    print(pet.speak())"
   ]
  },
  {
   "cell_type": "code",
   "execution_count": 0,
   "metadata": {},
   "outputs": [],
   "source": [
    "pet_speak(niko)\n",
    "pet_speak(felix)"
   ]
  },
  {
   "cell_type": "code",
   "execution_count": 0,
   "metadata": {},
   "outputs": [],
   "source": [
    "mylist=[1,2,3]\n",
    "print(len(mylist))"
   ]
  },
  {
   "cell_type": "code",
   "execution_count": 0,
   "metadata": {},
   "outputs": [],
   "source": [
    "class Sample():\n",
    "    pass\n",
    "mysample=Sample()\n",
    "len(mysample)"
   ]
  },
  {
   "cell_type": "code",
   "execution_count": 0,
   "metadata": {},
   "outputs": [],
   "source": [
    "class Book():\n",
    "    def __init__(self,title,author,pages):\n",
    "        self.title=title\n",
    "        self.author=author\n",
    "        self.pages=pages\n",
    "    \n",
    "    def __str__(self):\n",
    "       return f'{self.title} by {self.author}'\n",
    "    def __len__(self):\n",
    "        return self.pages\n",
    "    def __del__(self):\n",
    "        print('Object deleted')"
   ]
  },
  {
   "cell_type": "code",
   "execution_count": 0,
   "metadata": {},
   "outputs": [],
   "source": [
    "b=Book('Python Rocks','Jose',200)"
   ]
  },
  {
   "cell_type": "code",
   "execution_count": 0,
   "metadata": {},
   "outputs": [],
   "source": [
    "print(b)\n",
    "len(b)"
   ]
  },
  {
   "cell_type": "code",
   "execution_count": 0,
   "metadata": {},
   "outputs": [],
   "source": [
    "del(b)"
   ]
  },
  {
   "cell_type": "code",
   "execution_count": 91,
   "metadata": {},
   "outputs": [],
   "source": [
    "# 65 video \n",
    "\n",
    "class Line():\n",
    "    def __init__(self,coor1,coor2):\n",
    "        self.coor1=coor1\n",
    "        self.coor2=coor2\n",
    "    def distance(self):\n",
    "        x1,y1 = self.coor1\n",
    "        x2,y2 = self.coor2\n",
    "        return ((x2-x1)**2 + (y2-y1)**2)**0.5\n",
    "    def slope(self):\n",
    "        x1,y1 = self.coor1\n",
    "        x2,y2 = self.coor2\n",
    "        return (y2-y1)/(x2-x1)\n"
   ]
  },
  {
   "cell_type": "code",
   "execution_count": 92,
   "metadata": {},
   "outputs": [
    {
     "name": "stdout",
     "output_type": "stream",
     "text": "9.433981132056603     1.6\n"
    }
   ],
   "source": [
    "c1=(3,2)\n",
    "c2=(8,10)\n",
    "myline= Line(c1,c2)\n",
    "print(myline.distance(),'   ',myline.slope())"
   ]
  },
  {
   "cell_type": "code",
   "execution_count": 93,
   "metadata": {},
   "outputs": [],
   "source": [
    "from math import pi\n",
    "class Cylinder():\n",
    "    def __init__(self,height=1,radius=1):\n",
    "        self.height=height\n",
    "        self.radius=radius\n",
    "    def volume(self):\n",
    "        return pi*self.height*(self.radius**2)\n",
    "    def surface_area(self):\n",
    "        return (2*pi*self.radius**2)+(2*pi*self.radius*self.height)\n",
    "    "
   ]
  },
  {
   "cell_type": "code",
   "execution_count": 94,
   "metadata": {},
   "outputs": [
    {
     "name": "stdout",
     "output_type": "stream",
     "text": "56.548667764616276 94.24777960769379\n"
    }
   ],
   "source": [
    "mycyl=Cylinder(2,3)\n",
    "print(mycyl.volume(),mycyl.surface_area())"
   ]
  },
  {
   "cell_type": "code",
   "execution_count": 102,
   "metadata": {},
   "outputs": [],
   "source": [
    "# 67 video\n",
    "\n",
    "class Account():\n",
    "    def __init__(self,owner,balance=0):\n",
    "        self.owner=owner\n",
    "        self.balance=balance\n",
    "    \n",
    "    def deposit(self,dep_amt):\n",
    "        self.balance=self.balance+dep_amt\n",
    "        print(f\"Added {dep_amt} to the balance.Cur Bal : {self.balance}\")\n",
    "    \n",
    "    def withdrawal(self,wd_amt):\n",
    "\n",
    "        if self.balance>=wd_amt:\n",
    "            self.balance=self.balance-wd_amt\n",
    "            print(\"Withdrawal accepted\")\n",
    "        else:\n",
    "            print(\"Sorry not enough funds!\")\n",
    "    def __str__(self):\n",
    "        return f\"Owner : {self.owner} \\nBalance: {self.balance}\""
   ]
  },
  {
   "cell_type": "code",
   "execution_count": 103,
   "metadata": {},
   "outputs": [
    {
     "name": "stdout",
     "output_type": "stream",
     "text": "Sam 500\n"
    }
   ],
   "source": [
    "a=Account(\"Sam\",500)\n",
    "print(a.owner,a.balance)"
   ]
  },
  {
   "cell_type": "code",
   "execution_count": 106,
   "metadata": {},
   "outputs": [
    {
     "name": "stdout",
     "output_type": "stream",
     "text": "Added 1000 to the balance.Cur Bal : 2500\nOwner : Sam \nBalance: 2500\n"
    }
   ],
   "source": [
    "a.deposit(1000)\n",
    "print(a)"
   ]
  },
  {
   "cell_type": "code",
   "execution_count": 107,
   "metadata": {},
   "outputs": [
    {
     "name": "stdout",
     "output_type": "stream",
     "text": "Withdrawal accepted\nOwner : Sam \nBalance: 1500\nSorry not enough funds!\n"
    }
   ],
   "source": [
    "a.withdrawal(1000)\n",
    "print(a)\n",
    "a.withdrawal(2500)"
   ]
  },
  {
   "cell_type": "code",
   "execution_count": null,
   "metadata": {},
   "outputs": [],
   "source": []
  }
 ]
}