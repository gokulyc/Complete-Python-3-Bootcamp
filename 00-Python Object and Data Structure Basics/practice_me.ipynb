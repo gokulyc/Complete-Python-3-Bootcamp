{
 "nbformat": 4,
 "nbformat_minor": 2,
 "metadata": {
  "language_info": {
   "name": "python",
   "codemirror_mode": {
    "name": "ipython",
    "version": 3
   },
   "version": "3.7.3"
  },
  "orig_nbformat": 2,
  "file_extension": ".py",
  "mimetype": "text/x-python",
  "name": "python",
  "npconvert_exporter": "python",
  "pygments_lexer": "ipython3",
  "version": 3
 },
 "cells": [
  {
   "cell_type": "code",
   "execution_count": 2,
   "metadata": {},
   "outputs": [
    {
     "name": "stdout",
     "output_type": "stream",
     "text": "ello\nello Wor\ndlroW olleH\ndrWolH\nHello world\nhello world\nHello World\nHELLO WORLD\n<built-in method upper of str object at 0x000002BB5205E0F0>\n"
    }
   ],
   "source": [
    "str=\"Hello World\"\n",
    "print(str[1:5])\n",
    "print(str[1:9])\n",
    "print(str[::-1])\n",
    "print(str[::-2])\n",
    "print(str.capitalize())\n",
    "\n",
    "print(str.casefold())\n",
    "\n",
    "print(str.center(4))\n",
    "print(str.upper())\n",
    "print(str.upper)"
   ]
  },
  {
   "cell_type": "code",
   "execution_count": 3,
   "metadata": {},
   "outputs": [
    {
     "name": "stdout",
     "output_type": "stream",
     "text": "['Hello', 'World']\n"
    }
   ],
   "source": [
    "print(str.split(\" \"))"
   ]
  },
  {
   "cell_type": "code",
   "execution_count": 4,
   "metadata": {},
   "outputs": [
    {
     "name": "stdout",
     "output_type": "stream",
     "text": "Hi i am Gokul\n4+6=10\nwrong result 4+10=6\nfvs+bjbnd=jdhgv\n"
    }
   ],
   "source": [
    "print(\"Hi i am {}\".format(\"Gokul\"))\n",
    "\n",
    "print(\"{0}+{1}={2}\".format(4,6,10))\n",
    "\n",
    "print(\"wrong result {0}+{2}={1}\".format(4,6,10))\n",
    "\n",
    "print(\"{name}+{n1}={n3}\".format(name='fvs',n1='bjbnd',n3='jdhgv'))\n",
    "\n"
   ]
  },
  {
   "cell_type": "code",
   "execution_count": 5,
   "metadata": {},
   "outputs": [
    {
     "name": "stdout",
     "output_type": "stream",
     "text": "result is 0.129\nresult is      0.129\nresult is      0.129\n"
    }
   ],
   "source": [
    "ans=100/777\n",
    "ans\n",
    "print(\"result is {r:1.3f}\".format(r=ans))\n",
    "print(\"result is {r:10.3f}\".format(r=ans))\n",
    "\n",
    "# f strings >python 3.6\n",
    "print(f\"result is {ans:10.3f}\")\n"
   ]
  },
  {
   "cell_type": "code",
   "execution_count": 1,
   "metadata": {},
   "outputs": [
    {
     "name": "stdout",
     "output_type": "stream",
     "text": "[1, 2, 3, 9, 5, 6]\n[1, 2, 3, 5, 6, 9]\n"
    }
   ],
   "source": [
    "mylist=[1,2,3,9,5]\n",
    "len(mylist)\n",
    "mylist.append(6)\n",
    "print(mylist)\n",
    "print(sorted(mylist))"
   ]
  },
  {
   "cell_type": "code",
   "execution_count": 16,
   "metadata": {},
   "outputs": [
    {
     "name": "stdout",
     "output_type": "stream",
     "text": "None --- [1, 2, 3, 5, 6, 9]\n"
    }
   ],
   "source": [
    "# mylist.pop()\n",
    "print(mylist.sort(),'---',mylist)"
   ]
  },
  {
   "cell_type": "code",
   "execution_count": 19,
   "metadata": {},
   "outputs": [
    {
     "data": {
      "text/plain": "{'name': 'Gokul', 'id': 'GO353663'}"
     },
     "execution_count": 19,
     "metadata": {},
     "output_type": "execute_result"
    }
   ],
   "source": [
    "my_dict={'name':'Gokul','id':'GO353663'}\n",
    "my_dict"
   ]
  },
  {
   "cell_type": "code",
   "execution_count": 21,
   "metadata": {},
   "outputs": [
    {
     "data": {
      "text/plain": "5"
     },
     "execution_count": 21,
     "metadata": {},
     "output_type": "execute_result"
    }
   ],
   "source": [
    "len(my_dict['name'])\n",
    "my_dict['name']"
   ]
  },
  {
   "cell_type": "code",
   "execution_count": 28,
   "metadata": {},
   "outputs": [
    {
     "name": "stdout",
     "output_type": "stream",
     "text": "apple:15.0f : 120\noranges:15.0f : 80\nmilk:15.0f : 30\n"
    }
   ],
   "source": [
    "prices={'apple':120,'oranges':80,'milk':30}\n",
    "prices['apple']\n",
    "for ele in prices:\n",
    "    print('{}:15.0f'.format(ele),':',prices[ele])"
   ]
  },
  {
   "cell_type": "code",
   "execution_count": 7,
   "metadata": {},
   "outputs": [
    {
     "name": "stdout",
     "output_type": "stream",
     "text": "k1 : 100\nk2 : [1, 3, 4, 5]\nk3 : {'i1': 123, 'i2': 'gokul'}\n"
    },
    {
     "data": {
      "text/plain": "'GOKUL'"
     },
     "execution_count": 7,
     "metadata": {},
     "output_type": "execute_result"
    }
   ],
   "source": [
    "d={'k1':100,'k2':[1,3,4,5],'k3':{'i1':123,'i2':'gokul'}}\n",
    "for ele in d:\n",
    "    print(ele,':',d[ele])\n",
    "d['k3']['i2'].upper()"
   ]
  },
  {
   "cell_type": "code",
   "execution_count": 8,
   "metadata": {},
   "outputs": [
    {
     "name": "stdout",
     "output_type": "stream",
     "text": "{'k1': 100, 'k2': [1, 3, 4, 5], 'k3': {'i1': 123, 'i2': 'gokul'}, 'k4': 'new value'}\ndict_keys(['k1', 'k2', 'k3', 'k4'])\ndict_values([100, [1, 3, 4, 5], {'i1': 123, 'i2': 'gokul'}, 'new value'])\ndict_items([('k1', 100), ('k2', [1, 3, 4, 5]), ('k3', {'i1': 123, 'i2': 'gokul'}), ('k4', 'new value')])\n"
    }
   ],
   "source": [
    "d['k4']='new value'\n",
    "print(d)\n",
    "print(d.keys())\n",
    "print(d.values())\n",
    "print(d.items())"
   ]
  },
  {
   "cell_type": "code",
   "execution_count": 5,
   "metadata": {},
   "outputs": [
    {
     "name": "stdout",
     "output_type": "stream",
     "text": "('abc', 123, 'pot') <class 'tuple'> 3 123\nabc\n123\npot\n"
    }
   ],
   "source": [
    "tup=('abc',123,'pot')\n",
    "print(tup,type(tup),len(tup),tup[-2])\n",
    "for iele in tup.index():\n",
    "    print(iele)\n"
   ]
  },
  {
   "cell_type": "code",
   "execution_count": 6,
   "metadata": {},
   "outputs": [
    {
     "ename": "TypeError",
     "evalue": "'tuple' object does not support item assignment",
     "output_type": "error",
     "traceback": [
      "\u001b[1;31m---------------------------------------------------------------------------\u001b[0m",
      "\u001b[1;31mTypeError\u001b[0m                                 Traceback (most recent call last)",
      "\u001b[1;32m<ipython-input-6-33cbc7c76e38>\u001b[0m in \u001b[0;36m<module>\u001b[1;34m\u001b[0m\n\u001b[1;32m----> 1\u001b[1;33m \u001b[0mtup\u001b[0m\u001b[1;33m[\u001b[0m\u001b[1;36m0\u001b[0m\u001b[1;33m]\u001b[0m\u001b[1;33m=\u001b[0m\u001b[1;36m1\u001b[0m\u001b[1;33m\u001b[0m\u001b[1;33m\u001b[0m\u001b[0m\n\u001b[0m",
      "\u001b[1;31mTypeError\u001b[0m: 'tuple' object does not support item assignment"
     ]
    }
   ],
   "source": [
    "tup[0]=1"
   ]
  },
  {
   "cell_type": "code",
   "execution_count": 13,
   "metadata": {},
   "outputs": [
    {
     "name": "stdout",
     "output_type": "stream",
     "text": "{1, 2}\n"
    }
   ],
   "source": [
    "#sets\n",
    "\n",
    "myset=set()\n",
    "myset.add(1)\n",
    "myset.add(2)\n",
    "\n",
    "print(myset)"
   ]
  },
  {
   "cell_type": "code",
   "execution_count": 16,
   "metadata": {},
   "outputs": [
    {
     "name": "stdout",
     "output_type": "stream",
     "text": "{1, 2}\n{1, 2, 3}\n{'i', 'M', 's', 'p'}\n"
    }
   ],
   "source": [
    "myset.add(2)\n",
    "print(myset)\n",
    "print(set([1,1,1,2,2,2,3,3,3]))\n",
    "print(set('Mississippi'))"
   ]
  },
  {
   "cell_type": "code",
   "execution_count": 18,
   "metadata": {},
   "outputs": [
    {
     "name": "stdout",
     "output_type": "stream",
     "text": "1\nFalse\n"
    }
   ],
   "source": [
    "#Boolean\n",
    "\n",
    "print(True+False)\n",
    "\n",
    "print(1>2)"
   ]
  },
  {
   "cell_type": "code",
   "execution_count": 48,
   "metadata": {},
   "outputs": [
    {
     "name": "stdout",
     "output_type": "stream",
     "text": "Overwriting myfile.txt\n"
    }
   ],
   "source": [
    "%%writefile myfile.txt\n",
    "\n",
    "hi i am gokul.\n",
    "this is second line\n",
    "third line\n"
   ]
  },
  {
   "cell_type": "code",
   "execution_count": 43,
   "metadata": {},
   "outputs": [
    {
     "data": {
      "text/plain": "'e:\\\\Github\\\\Complete-Python-3-Bootcamp'"
     },
     "execution_count": 43,
     "metadata": {},
     "output_type": "execute_result"
    }
   ],
   "source": [
    "import os\n",
    "myfile = open('myfile.txt')\n",
    "os.getcwd()\n",
    "\n",
    "# import pathlib\n",
    "# current_dir = pathlib.Path(__file__).parent\n",
    "# current_file = pathlib.Path(__file__)"
   ]
  },
  {
   "cell_type": "code",
   "execution_count": 28,
   "metadata": {},
   "outputs": [
    {
     "data": {
      "text/plain": "'\\nhi i am gokul.\\nthis is second line\\nthird line\\n'"
     },
     "execution_count": 28,
     "metadata": {},
     "output_type": "execute_result"
    }
   ],
   "source": [
    "myfile.read()"
   ]
  },
  {
   "cell_type": "code",
   "execution_count": 29,
   "metadata": {},
   "outputs": [
    {
     "data": {
      "text/plain": "''"
     },
     "execution_count": 29,
     "metadata": {},
     "output_type": "execute_result"
    }
   ],
   "source": [
    "myfile.read()"
   ]
  },
  {
   "cell_type": "code",
   "execution_count": 42,
   "metadata": {},
   "outputs": [
    {
     "ename": "ValueError",
     "evalue": "I/O operation on closed file.",
     "output_type": "error",
     "traceback": [
      "\u001b[1;31m---------------------------------------------------------------------------\u001b[0m",
      "\u001b[1;31mValueError\u001b[0m                                Traceback (most recent call last)",
      "\u001b[1;32m<ipython-input-42-db830e3d7b5b>\u001b[0m in \u001b[0;36m<module>\u001b[1;34m\u001b[0m\n\u001b[1;32m----> 1\u001b[1;33m \u001b[0mmyfile\u001b[0m\u001b[1;33m.\u001b[0m\u001b[0mseek\u001b[0m\u001b[1;33m(\u001b[0m\u001b[1;36m0\u001b[0m\u001b[1;33m)\u001b[0m\u001b[1;33m\u001b[0m\u001b[1;33m\u001b[0m\u001b[0m\n\u001b[0m",
      "\u001b[1;31mValueError\u001b[0m: I/O operation on closed file."
     ]
    }
   ],
   "source": [
    "myfile.seek(0)"
   ]
  },
  {
   "cell_type": "code",
   "execution_count": 44,
   "metadata": {},
   "outputs": [
    {
     "name": "stdout",
     "output_type": "stream",
     "text": "\nhi i am gokul.\nthis is second line\nthird line\n\n"
    }
   ],
   "source": [
    "contents=myfile.read()\n",
    "repr(contents)\n",
    "print(contents)\n",
    "myfile.close()"
   ]
  },
  {
   "cell_type": "code",
   "execution_count": 47,
   "metadata": {},
   "outputs": [
    {
     "name": "stdout",
     "output_type": "stream",
     "text": "\nhi i am gokul.\nthis is second line\nthird line\n\n"
    }
   ],
   "source": [
    "with open('myfile.txt',mode='r') as myfile: # modes r w a r+ w+\n",
    "    contents=myfile.read()\n",
    "    repr(contents)\n",
    "    print(contents)\n",
    "    # myfile.close() not needed\n"
   ]
  },
  {
   "cell_type": "code",
   "execution_count": 49,
   "metadata": {},
   "outputs": [
    {
     "name": "stdout",
     "output_type": "stream",
     "text": "Writing mynewfile.txt\n"
    }
   ],
   "source": [
    "%%writefile mynewfile.txt\n",
    "\n",
    "hi i am gokul.\n",
    "this is second line\n",
    "third line"
   ]
  },
  {
   "cell_type": "code",
   "execution_count": 60,
   "metadata": {},
   "outputs": [],
   "source": [
    "with open('mynewfile.txt',mode='a') as mynewfile: # modes r w a r+ w+\n",
    "    mynewfile.write('\\nnew line')\n",
    "    "
   ]
  },
  {
   "cell_type": "code",
   "execution_count": 1,
   "metadata": {},
   "outputs": [
    {
     "name": "stdout",
     "output_type": "stream",
     "text": "\nhi i am gokul.\nthis is second line\nthird line\nnew line\n"
    }
   ],
   "source": [
    "with open('mynewfile.txt',mode='r') as mynewfile: # modes r w a r+ w+\n",
    "    # mynewfile.write('new line')\n",
    "    contents=mynewfile.read()\n",
    "    repr(contents)\n",
    "    print(contents)"
   ]
  },
  {
   "cell_type": "code",
   "execution_count": 1,
   "metadata": {},
   "outputs": [
    {
     "name": "stdout",
     "output_type": "stream",
     "text": "Feed Me!\n"
    }
   ],
   "source": [
    "# if else\n",
    "hungry= True\n",
    "if hungry:\n",
    "    print('Feed Me!')\n",
    "else:\n",
    "    print('i am not hungry')\n"
   ]
  },
  {
   "cell_type": "code",
   "execution_count": 3,
   "metadata": {},
   "outputs": [
    {
     "name": "stdout",
     "output_type": "stream",
     "text": "Money is cool\n"
    }
   ],
   "source": [
    "loc = 'Bank'\n",
    "\n",
    "if loc == 'Auto Shop':\n",
    "    print(\"Cars are cool!\")\n",
    "elif loc == 'Bank':\n",
    "    print(\"Money is cool\")\n",
    "else:\n",
    "    print('No idea')"
   ]
  },
  {
   "cell_type": "code",
   "execution_count": 4,
   "metadata": {},
   "outputs": [
    {
     "name": "stdout",
     "output_type": "stream",
     "text": "1\n3\n2\n4\n5\n"
    }
   ],
   "source": [
    "li=[1,3,2,4,5]\n",
    "for ele in li:\n",
    "    print(ele)"
   ]
  },
  {
   "cell_type": "code",
   "execution_count": 6,
   "metadata": {},
   "outputs": [
    {
     "name": "stdout",
     "output_type": "stream",
     "text": "Odd Num : 1\nOdd Num : 3\n2\n4\nOdd Num : 5\n"
    }
   ],
   "source": [
    "for num in li:\n",
    "    # check even\n",
    "    if num%2 == 0:\n",
    "        print(num)\n",
    "    else:\n",
    "        print(f'Odd Num : {num}')"
   ]
  },
  {
   "cell_type": "code",
   "execution_count": 8,
   "metadata": {},
   "outputs": [
    {
     "name": "stdout",
     "output_type": "stream",
     "text": "1\n4\n6\n10\n15\ntotal :  15\n"
    }
   ],
   "source": [
    "\n",
    "li_sum=0\n",
    "\n",
    "for num in li:\n",
    "    li_sum=li_sum+num\n",
    "    print(li_sum)\n",
    "print('total : ',li_sum)"
   ]
  },
  {
   "cell_type": "code",
   "execution_count": 9,
   "metadata": {},
   "outputs": [
    {
     "name": "stdout",
     "output_type": "stream",
     "text": "h\ne\nl\nl\no\n \nw\no\nr\nl\nd\n"
    }
   ],
   "source": [
    "str='hello world'\n",
    "\n",
    "for letter in str:\n",
    "    print(letter)"
   ]
  },
  {
   "cell_type": "code",
   "execution_count": 10,
   "metadata": {},
   "outputs": [
    {
     "name": "stdout",
     "output_type": "stream",
     "text": "1\n2\n3\n"
    }
   ],
   "source": [
    "tup=(1,2,3)\n",
    "\n",
    "for ele in tup:\n",
    "    print(ele)   "
   ]
  },
  {
   "cell_type": "code",
   "execution_count": 11,
   "metadata": {},
   "outputs": [
    {
     "name": "stdout",
     "output_type": "stream",
     "text": "4\n"
    }
   ],
   "source": [
    "myl = [(1,2),(3,4),(5,6),(7,8)]\n",
    "\n",
    "print(len(myl))"
   ]
  },
  {
   "cell_type": "code",
   "execution_count": 13,
   "metadata": {},
   "outputs": [
    {
     "name": "stdout",
     "output_type": "stream",
     "text": "(1, 2)\n(3, 4)\n(5, 6)\n(7, 8)\n1 2\n3 4\n5 6\n7 8\n"
    }
   ],
   "source": [
    "for ele in myl:\n",
    "    print(ele)\n",
    "# tuple unpacking\n",
    "for (a,b) in myl:\n",
    "    print(a,b)"
   ]
  },
  {
   "cell_type": "code",
   "execution_count": 17,
   "metadata": {},
   "outputs": [
    {
     "name": "stdout",
     "output_type": "stream",
     "text": "k1\nk2\nk3\n('k1', 1)\n('k2', 2)\n('k3', 3)\nk1 1\nk2 2\nk3 3\n"
    }
   ],
   "source": [
    "# dict\n",
    "d={'k1':1,'k2':2,'k3':3}\n",
    "# type(d)\n",
    "\n",
    "for ele in d:\n",
    "    print(ele)\n",
    "for ele in d.items():\n",
    "    print(ele)\n",
    "for key,ele in d.items():\n",
    "    print(key,ele)"
   ]
  },
  {
   "cell_type": "code",
   "execution_count": 1,
   "metadata": {},
   "outputs": [
    {
     "name": "stdout",
     "output_type": "stream",
     "text": "b\nc\nd\ne\ng\n"
    }
   ],
   "source": [
    "# pass break continue\n",
    "\n",
    "str = 'abcdefg'\n",
    "\n",
    "for i in str:\n",
    "    pass\n",
    "for i in str:\n",
    "    if i == 'a':\n",
    "        continue\n",
    "    if i == 'f':\n",
    "        continue\n",
    "    print(i)"
   ]
  },
  {
   "cell_type": "code",
   "execution_count": 5,
   "metadata": {},
   "outputs": [
    {
     "name": "stdout",
     "output_type": "stream",
     "text": "range(0, 3) range(1, 3) range(1, 9, 3)\n0\n1\n2\n\n1\n2\n\n1\n4\n7\n"
    }
   ],
   "source": [
    "# Range\n",
    "print(range(3),range(1,3),range(1,9,3))\n",
    "\n",
    "for i in range(3):\n",
    "    print(i)\n",
    "print()\n",
    "for i in range(1,3):\n",
    "    print(i)\n",
    "print()\n",
    "for i in range(1,9,3):\n",
    "    print(i)"
   ]
  },
  {
   "cell_type": "code",
   "execution_count": 9,
   "metadata": {},
   "outputs": [
    {
     "name": "stdout",
     "output_type": "stream",
     "text": "(0, 'a')\n(1, 'b')\n(2, 'c')\n(3, 'd')\n(4, 'e')\na is at 0\nb is at 1\nc is at 2\nd is at 3\ne is at 4\n"
    }
   ],
   "source": [
    "# Enumerate\n",
    "\n",
    "word='abcde'\n",
    "for item in enumerate(word):\n",
    "    print(item)\n",
    "for item in enumerate(word):\n",
    "    print(f\"{item[1]} is at {item[0]}\")\n",
    "\n"
   ]
  },
  {
   "cell_type": "code",
   "execution_count": 12,
   "metadata": {},
   "outputs": [
    {
     "name": "stdout",
     "output_type": "stream",
     "text": "1 a\n2 b\n3 c\n"
    }
   ],
   "source": [
    "# Zip\n",
    "\n",
    "li1=[1,2,3,4]\n",
    "li2=['a','b','c']\n",
    "\n",
    "for i,j in zip(li1,li2):\n",
    "    print(i,j)"
   ]
  },
  {
   "cell_type": "code",
   "execution_count": 14,
   "metadata": {},
   "outputs": [
    {
     "name": "stdout",
     "output_type": "stream",
     "text": "True\n"
    }
   ],
   "source": [
    "# in\n",
    "\n",
    "print(2 in [2,4,5])"
   ]
  },
  {
   "cell_type": "code",
   "execution_count": 15,
   "metadata": {},
   "outputs": [
    {
     "name": "stdout",
     "output_type": "stream",
     "text": "1 4\n"
    }
   ],
   "source": [
    "# min max\n",
    "print(min(li1),max(li1))"
   ]
  },
  {
   "cell_type": "code",
   "execution_count": 17,
   "metadata": {},
   "outputs": [
    {
     "name": "stdout",
     "output_type": "stream",
     "text": "None [3, 1, 4, 6, 2, 9, 5, 8, 0, 7]\n"
    }
   ],
   "source": [
    "# shuffle, random\n",
    "from random import shuffle\n",
    "\n",
    "mylist=[1,2,3,4,5,6,7,8,9,0]\n",
    "print(shuffle(mylist),mylist)"
   ]
  },
  {
   "cell_type": "code",
   "execution_count": 19,
   "metadata": {},
   "outputs": [
    {
     "name": "stdout",
     "output_type": "stream",
     "text": "37\n"
    }
   ],
   "source": [
    "from random import randint\n",
    "num = randint(2,99)\n",
    "print(num)"
   ]
  },
  {
   "cell_type": "code",
   "execution_count": 20,
   "metadata": {},
   "outputs": [
    {
     "ename": "StdinNotImplementedError",
     "evalue": "raw_input was called, but this frontend does not support input requests.",
     "output_type": "error",
     "traceback": [
      "\u001b[1;31m---------------------------------------------------------------------------\u001b[0m",
      "\u001b[1;31mStdinNotImplementedError\u001b[0m                  Traceback (most recent call last)",
      "\u001b[1;32m<ipython-input-20-6916ada9345c>\u001b[0m in \u001b[0;36m<module>\u001b[1;34m\u001b[0m\n\u001b[0;32m      1\u001b[0m \u001b[1;31m#  input\u001b[0m\u001b[1;33m\u001b[0m\u001b[1;33m\u001b[0m\u001b[1;33m\u001b[0m\u001b[0m\n\u001b[0;32m      2\u001b[0m \u001b[1;33m\u001b[0m\u001b[0m\n\u001b[1;32m----> 3\u001b[1;33m \u001b[0mnum\u001b[0m\u001b[1;33m=\u001b[0m\u001b[0mint\u001b[0m\u001b[1;33m(\u001b[0m\u001b[0minput\u001b[0m\u001b[1;33m(\u001b[0m\u001b[1;34m\"enter a number:\"\u001b[0m\u001b[1;33m)\u001b[0m\u001b[1;33m)\u001b[0m\u001b[1;33m\u001b[0m\u001b[1;33m\u001b[0m\u001b[0m\n\u001b[0m",
      "\u001b[1;32m~\\Anaconda3\\lib\\site-packages\\ipykernel\\kernelbase.py\u001b[0m in \u001b[0;36mraw_input\u001b[1;34m(self, prompt)\u001b[0m\n\u001b[0;32m    852\u001b[0m         \u001b[1;32mif\u001b[0m \u001b[1;32mnot\u001b[0m \u001b[0mself\u001b[0m\u001b[1;33m.\u001b[0m\u001b[0m_allow_stdin\u001b[0m\u001b[1;33m:\u001b[0m\u001b[1;33m\u001b[0m\u001b[1;33m\u001b[0m\u001b[0m\n\u001b[0;32m    853\u001b[0m             raise StdinNotImplementedError(\n\u001b[1;32m--> 854\u001b[1;33m                 \u001b[1;34m\"raw_input was called, but this frontend does not support input requests.\"\u001b[0m\u001b[1;33m\u001b[0m\u001b[1;33m\u001b[0m\u001b[0m\n\u001b[0m\u001b[0;32m    855\u001b[0m             )\n\u001b[0;32m    856\u001b[0m         return self._input_request(str(prompt),\n",
      "\u001b[1;31mStdinNotImplementedError\u001b[0m: raw_input was called, but this frontend does not support input requests."
     ]
    }
   ],
   "source": [
    "#  input\n",
    "\n",
    "num=int(input(\"enter a number:\"))"
   ]
  },
  {
   "cell_type": "code",
   "execution_count": 21,
   "metadata": {},
   "outputs": [
    {
     "name": "stdout",
     "output_type": "stream",
     "text": "['H', 'e', 'l', 'l', 'o', ' ', 'W', 'o', 'r', 'l', 'd']\n"
    }
   ],
   "source": [
    "# list comprehension\n",
    "str=\"Hello World\"\n",
    "\n",
    "mylist=[letter for letter in str]\n",
    "print(mylist)"
   ]
  },
  {
   "cell_type": "code",
   "execution_count": 25,
   "metadata": {},
   "outputs": [
    {
     "name": "stdout",
     "output_type": "stream",
     "text": "[0, 'ODD', 2, 'ODD', 4, 'ODD', 6, 'ODD', 8, 'ODD', 10] [0, 2, 4, 6, 8, 10]\n"
    }
   ],
   "source": [
    "results = [x if x%2==0 else 'ODD' for x in range(0,11)]\n",
    "res1 = [x for x in range(0,11) if x%2==0 ]\n",
    "print(results,res1)"
   ]
  },
  {
   "cell_type": "code",
   "execution_count": 1,
   "metadata": {},
   "outputs": [
    {
     "name": "stdout",
     "output_type": "stream",
     "text": "[32.0, 50.0, 68.0, 94.1]\n"
    }
   ],
   "source": [
    "celcius=[0,10,20,34.5]\n",
    "fahrenheit=[((9/5)*temp+32) for temp in celcius]\n",
    "print(fahrenheit)"
   ]
  },
  {
   "cell_type": "code",
   "execution_count": 2,
   "metadata": {},
   "outputs": [
    {
     "name": "stdout",
     "output_type": "stream",
     "text": "[2, 20, 200, 4, 40, 400, 6, 60, 600]\n"
    }
   ],
   "source": [
    "mylist=[x*y for x in [2,4,6] for y in [1,10,100]]\n",
    "print(mylist)"
   ]
  },
  {
   "cell_type": "code",
   "execution_count": null,
   "metadata": {},
   "outputs": [],
   "source": []
  }
 ]
}