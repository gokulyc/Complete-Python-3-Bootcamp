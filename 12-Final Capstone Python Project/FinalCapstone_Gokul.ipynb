{
 "nbformat": 4,
 "nbformat_minor": 2,
 "metadata": {
  "language_info": {
   "name": "python",
   "codemirror_mode": {
    "name": "ipython",
    "version": 3
   },
   "version": "3.7.3"
  },
  "orig_nbformat": 2,
  "file_extension": ".py",
  "mimetype": "text/x-python",
  "name": "python",
  "npconvert_exporter": "python",
  "pygments_lexer": "ipython3",
  "version": 3
 },
 "cells": [
  {
   "cell_type": "code",
   "execution_count": 17,
   "metadata": {},
   "outputs": [
    {
     "name": "stdout",
     "output_type": "stream",
     "text": "3.14159\n"
    }
   ],
   "source": [
    "from math import pi\n",
    "\n",
    "# i=input('Enter a number and have the program generate π (pi) up to that many decimal places : ')\n",
    "i=5\n",
    "print('{:{width}.{i}f}'.format(pi,i=i,width=10))\n"
   ]
  },
  {
   "cell_type": "code",
   "execution_count": 21,
   "metadata": {},
   "outputs": [
    {
     "name": "stdout",
     "output_type": "stream",
     "text": "2.71828\n"
    }
   ],
   "source": [
    "from math import e as e_val\n",
    "# i=input('Enter a number and have the program generate e up to that many decimal places : ')\n",
    "i=5\n",
    "print('{:{width}.{i}f}'.format(e_val,i=i,width=10))"
   ]
  },
  {
   "cell_type": "code",
   "execution_count": 31,
   "metadata": {},
   "outputs": [
    {
     "name": "stdout",
     "output_type": "stream",
     "text": "<generator object fibo at 0x00000209FBE56A98>\n0\n1\n1\n2\n3\n5\n8\n13\n21\n34\n55\n89\n144\n233\n377\n610\n"
    }
   ],
   "source": [
    "def fibo(n):\n",
    "    a=0\n",
    "    b=1\n",
    "    print(0)\n",
    "    print(1)\n",
    "    for i in range(n-1):\n",
    "        c=a+b\n",
    "        yield c\n",
    "        a,b=b,c\n",
    "print(fibo(15))\n",
    "for ele in fibo(15):\n",
    "    print(ele)\n"
   ]
  },
  {
   "cell_type": "code",
   "execution_count": 36,
   "metadata": {},
   "outputs": [
    {
     "name": "stdout",
     "output_type": "stream",
     "text": "False\nTrue\n2\n2\n"
    }
   ],
   "source": [
    "def isprime(num):\n",
    "    count=0\n",
    "    for i in range(2,num-1):\n",
    "        if num%i==0:\n",
    "            count+=1\n",
    "    if count==0:\n",
    "        return True\n",
    "    else:\n",
    "        return False\n",
    "print(isprime(56))\n",
    "print(isprime(47))"
   ]
  },
  {
   "cell_type": "code",
   "execution_count": 3,
   "metadata": {},
   "outputs": [
    {
     "name": "stdout",
     "output_type": "stream",
     "text": "2\n2\n2\n3\n3\n3\n--------------\n3\n3\n5\n7\n"
    }
   ],
   "source": [
    "def primefactors(num1):\n",
    "\n",
    "    while num1%2==0:\n",
    "        print(2)\n",
    "        num1=num1/2\n",
    "    for i in range(3,int(num1),2):\n",
    "        while num1%i==0:\n",
    "            print(i)\n",
    "            num1=num1/i\n",
    "\n",
    "primefactors(216) \n",
    "print('--------------')  \n",
    "primefactors(315)"
   ]
  },
  {
   "cell_type": "code",
   "execution_count": 2,
   "metadata": {},
   "outputs": [
    {
     "name": "stdout",
     "output_type": "stream",
     "text": "Total Cost : 385.0\n"
    }
   ],
   "source": [
    "# tiles cost\n",
    "tile_cost = 10 # 3 by 2\n",
    "\n",
    "width=11\n",
    "height=21\n",
    "\n",
    "t_area=width*height\n",
    "\n",
    "no_of_tiles=t_area/6\n",
    "\n",
    "print('Total Cost :',no_of_tiles*tile_cost)\n",
    "\n"
   ]
  },
  {
   "cell_type": "code",
   "execution_count": 6,
   "metadata": {},
   "outputs": [
    {
     "name": "stdout",
     "output_type": "stream",
     "text": "Monthly payment for a 200000.00 2.0 year mortgage at 11% interest rate is: 9321.567639304922\n"
    }
   ],
   "source": [
    "# fixed term mortgage\n",
    "\n",
    "\n",
    "# months = int(raw_input(\"Enter mortgage term (in months): \"))\n",
    "# rate = float(raw_input(\"Enter interest rate: \"))\n",
    "# loan = float(raw_input(\"Enter loan value: \"))\n",
    "def CalcMortage(months,rate,loan):\n",
    "    monthly_rate = rate / 100 / 12\n",
    "    payment = (monthly_rate / (1 - (1 + monthly_rate)**(-months))) * loan\n",
    "    print (f\"Monthly payment for a {loan:.2f} {months/12} year mortgage at {rate}% interest rate is: {payment}\")\n",
    "\n",
    "CalcMortage(24,11,200000)\n",
    "    # print (f\"Monthly payment for a {loan:.2f}$%.2f %s year mortgage at %.2f%% interest rate is: $%.2f\" % (loan, (months / 12), rate, payment)\n"
   ]
  },
  {
   "cell_type": "code",
   "execution_count": null,
   "metadata": {},
   "outputs": [],
   "source": []
  }
 ]
}